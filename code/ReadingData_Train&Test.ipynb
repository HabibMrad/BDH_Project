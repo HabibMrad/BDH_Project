{
 "cells": [
  {
   "cell_type": "code",
   "execution_count": 1,
   "metadata": {
    "collapsed": true
   },
   "outputs": [],
   "source": [
    "import pandas as pd\n",
    "import numpy as np\n",
    "import pickle\n",
    "import glob\n",
    "from tqdm import tqdm\n",
    "import cv2\n",
    "import matplotlib.pyplot as plt\n",
    "%matplotlib inline"
   ]
  },
  {
   "cell_type": "code",
   "execution_count": 2,
   "metadata": {},
   "outputs": [],
   "source": [
    "# data = pd.read_pickle(\"../data/images/all_data.pkl\")"
   ]
  },
  {
   "cell_type": "code",
   "execution_count": 3,
   "metadata": {},
   "outputs": [],
   "source": [
    "# data.shape"
   ]
  },
  {
   "cell_type": "code",
   "execution_count": 4,
   "metadata": {},
   "outputs": [
    {
     "data": {
      "text/html": [
       "<div>\n",
       "<style>\n",
       "    .dataframe thead tr:only-child th {\n",
       "        text-align: right;\n",
       "    }\n",
       "\n",
       "    .dataframe thead th {\n",
       "        text-align: left;\n",
       "    }\n",
       "\n",
       "    .dataframe tbody tr th {\n",
       "        vertical-align: top;\n",
       "    }\n",
       "</style>\n",
       "<table border=\"1\" class=\"dataframe\">\n",
       "  <thead>\n",
       "    <tr style=\"text-align: right;\">\n",
       "      <th></th>\n",
       "      <th>img_filename</th>\n",
       "      <th>text_label</th>\n",
       "      <th>follow_up_number</th>\n",
       "      <th>img_height_original</th>\n",
       "      <th>x_pixel_spacing_original</th>\n",
       "      <th>img_width_original</th>\n",
       "      <th>age</th>\n",
       "      <th>gender</th>\n",
       "      <th>patient_id</th>\n",
       "      <th>view_position</th>\n",
       "      <th>y_pixel_spacing_original</th>\n",
       "    </tr>\n",
       "  </thead>\n",
       "  <tbody>\n",
       "    <tr>\n",
       "      <th>0</th>\n",
       "      <td>00000001_000.png</td>\n",
       "      <td>Cardiomegaly</td>\n",
       "      <td>0</td>\n",
       "      <td>2749</td>\n",
       "      <td>0.143</td>\n",
       "      <td>2682</td>\n",
       "      <td>58</td>\n",
       "      <td>M</td>\n",
       "      <td>1</td>\n",
       "      <td>PA</td>\n",
       "      <td>0.143</td>\n",
       "    </tr>\n",
       "    <tr>\n",
       "      <th>1</th>\n",
       "      <td>00000001_001.png</td>\n",
       "      <td>Cardiomegaly|Emphysema</td>\n",
       "      <td>1</td>\n",
       "      <td>2729</td>\n",
       "      <td>0.143</td>\n",
       "      <td>2894</td>\n",
       "      <td>58</td>\n",
       "      <td>M</td>\n",
       "      <td>1</td>\n",
       "      <td>PA</td>\n",
       "      <td>0.143</td>\n",
       "    </tr>\n",
       "    <tr>\n",
       "      <th>2</th>\n",
       "      <td>00000001_002.png</td>\n",
       "      <td>Cardiomegaly|Effusion</td>\n",
       "      <td>2</td>\n",
       "      <td>2048</td>\n",
       "      <td>0.168</td>\n",
       "      <td>2500</td>\n",
       "      <td>58</td>\n",
       "      <td>M</td>\n",
       "      <td>1</td>\n",
       "      <td>PA</td>\n",
       "      <td>0.168</td>\n",
       "    </tr>\n",
       "  </tbody>\n",
       "</table>\n",
       "</div>"
      ],
      "text/plain": [
       "       img_filename              text_label  follow_up_number  \\\n",
       "0  00000001_000.png            Cardiomegaly                 0   \n",
       "1  00000001_001.png  Cardiomegaly|Emphysema                 1   \n",
       "2  00000001_002.png   Cardiomegaly|Effusion                 2   \n",
       "\n",
       "   img_height_original  x_pixel_spacing_original  img_width_original  age  \\\n",
       "0                 2749                     0.143                2682   58   \n",
       "1                 2729                     0.143                2894   58   \n",
       "2                 2048                     0.168                2500   58   \n",
       "\n",
       "  gender  patient_id view_position  y_pixel_spacing_original  \n",
       "0      M           1            PA                     0.143  \n",
       "1      M           1            PA                     0.143  \n",
       "2      M           1            PA                     0.168  "
      ]
     },
     "execution_count": 4,
     "metadata": {},
     "output_type": "execute_result"
    }
   ],
   "source": [
    "## unblacklisted images for training\n",
    "train_img_list = pd.read_pickle(\"../data/images/train_val_filtered.pkl\")\n",
    "train_img_list.head(3)"
   ]
  },
  {
   "cell_type": "code",
   "execution_count": 5,
   "metadata": {},
   "outputs": [
    {
     "data": {
      "text/plain": [
       "(85690, 11)"
      ]
     },
     "execution_count": 5,
     "metadata": {},
     "output_type": "execute_result"
    }
   ],
   "source": [
    "train_img_list.shape"
   ]
  },
  {
   "cell_type": "code",
   "execution_count": 6,
   "metadata": {},
   "outputs": [
    {
     "data": {
      "text/html": [
       "<div>\n",
       "<style>\n",
       "    .dataframe thead tr:only-child th {\n",
       "        text-align: right;\n",
       "    }\n",
       "\n",
       "    .dataframe thead th {\n",
       "        text-align: left;\n",
       "    }\n",
       "\n",
       "    .dataframe tbody tr th {\n",
       "        vertical-align: top;\n",
       "    }\n",
       "</style>\n",
       "<table border=\"1\" class=\"dataframe\">\n",
       "  <thead>\n",
       "    <tr style=\"text-align: right;\">\n",
       "      <th></th>\n",
       "      <th>img_filename</th>\n",
       "      <th>text_label</th>\n",
       "      <th>follow_up_number</th>\n",
       "      <th>img_height_original</th>\n",
       "      <th>x_pixel_spacing_original</th>\n",
       "      <th>img_width_original</th>\n",
       "      <th>age</th>\n",
       "      <th>gender</th>\n",
       "      <th>patient_id</th>\n",
       "      <th>view_position</th>\n",
       "      <th>y_pixel_spacing_original</th>\n",
       "    </tr>\n",
       "  </thead>\n",
       "  <tbody>\n",
       "    <tr>\n",
       "      <th>0</th>\n",
       "      <td>00000003_000.png</td>\n",
       "      <td>Hernia</td>\n",
       "      <td>0</td>\n",
       "      <td>2991</td>\n",
       "      <td>0.143</td>\n",
       "      <td>2582</td>\n",
       "      <td>81</td>\n",
       "      <td>F</td>\n",
       "      <td>3</td>\n",
       "      <td>PA</td>\n",
       "      <td>0.143</td>\n",
       "    </tr>\n",
       "    <tr>\n",
       "      <th>1</th>\n",
       "      <td>00000003_001.png</td>\n",
       "      <td>Hernia</td>\n",
       "      <td>1</td>\n",
       "      <td>2048</td>\n",
       "      <td>0.168</td>\n",
       "      <td>2500</td>\n",
       "      <td>74</td>\n",
       "      <td>F</td>\n",
       "      <td>3</td>\n",
       "      <td>PA</td>\n",
       "      <td>0.168</td>\n",
       "    </tr>\n",
       "    <tr>\n",
       "      <th>2</th>\n",
       "      <td>00000003_002.png</td>\n",
       "      <td>Hernia</td>\n",
       "      <td>2</td>\n",
       "      <td>2500</td>\n",
       "      <td>0.168</td>\n",
       "      <td>2048</td>\n",
       "      <td>75</td>\n",
       "      <td>F</td>\n",
       "      <td>3</td>\n",
       "      <td>PA</td>\n",
       "      <td>0.168</td>\n",
       "    </tr>\n",
       "  </tbody>\n",
       "</table>\n",
       "</div>"
      ],
      "text/plain": [
       "       img_filename text_label  follow_up_number  img_height_original  \\\n",
       "0  00000003_000.png     Hernia                 0                 2991   \n",
       "1  00000003_001.png     Hernia                 1                 2048   \n",
       "2  00000003_002.png     Hernia                 2                 2500   \n",
       "\n",
       "   x_pixel_spacing_original  img_width_original  age gender  patient_id  \\\n",
       "0                     0.143                2582   81      F           3   \n",
       "1                     0.168                2500   74      F           3   \n",
       "2                     0.168                2048   75      F           3   \n",
       "\n",
       "  view_position  y_pixel_spacing_original  \n",
       "0            PA                     0.143  \n",
       "1            PA                     0.168  \n",
       "2            PA                     0.168  "
      ]
     },
     "execution_count": 6,
     "metadata": {},
     "output_type": "execute_result"
    }
   ],
   "source": [
    "## unblacklisted images for testing\n",
    "test_img_list = pd.read_pickle(\"../data/images/test_filtered.pkl\")\n",
    "test_img_list.head(3)"
   ]
  },
  {
   "cell_type": "code",
   "execution_count": 7,
   "metadata": {},
   "outputs": [],
   "source": [
    "## Names of all images we have in the tar file\n",
    "single_tar_images = [i.split('\\\\')[1] for i in glob.glob('../data/images/*.png')]"
   ]
  },
  {
   "cell_type": "code",
   "execution_count": 8,
   "metadata": {
    "collapsed": true
   },
   "outputs": [],
   "source": [
    "def intersect(a, b):\n",
    "    return list(set(a) & set(b))"
   ]
  },
  {
   "cell_type": "code",
   "execution_count": 9,
   "metadata": {},
   "outputs": [
    {
     "data": {
      "text/plain": [
       "(7165,)"
      ]
     },
     "execution_count": 9,
     "metadata": {},
     "output_type": "execute_result"
    }
   ],
   "source": [
    "## get intersection of both(remove blacklisted files)\n",
    "final_train = intersect((train_img_list.img_filename.values).tolist(), \n",
    "                        single_tar_images)\n",
    "np.asarray(final_train).shape"
   ]
  },
  {
   "cell_type": "code",
   "execution_count": 10,
   "metadata": {},
   "outputs": [],
   "source": [
    "# final_train"
   ]
  },
  {
   "cell_type": "code",
   "execution_count": 11,
   "metadata": {},
   "outputs": [
    {
     "data": {
      "text/plain": [
       "(2658,)"
      ]
     },
     "execution_count": 11,
     "metadata": {},
     "output_type": "execute_result"
    }
   ],
   "source": [
    "## get intersection of both(remove blacklisted files)\n",
    "final_test = intersect((test_img_list.img_filename.values).tolist(), \n",
    "                        single_tar_images)\n",
    "np.asarray(final_test).shape"
   ]
  },
  {
   "cell_type": "code",
   "execution_count": 12,
   "metadata": {},
   "outputs": [
    {
     "data": {
      "text/plain": [
       "(7165, 11)"
      ]
     },
     "execution_count": 12,
     "metadata": {},
     "output_type": "execute_result"
    }
   ],
   "source": [
    "train_label_data = train_img_list[train_img_list.img_filename.isin(final_train)]\n",
    "train_label_data.shape"
   ]
  },
  {
   "cell_type": "code",
   "execution_count": 13,
   "metadata": {},
   "outputs": [
    {
     "data": {
      "text/html": [
       "<div>\n",
       "<style>\n",
       "    .dataframe thead tr:only-child th {\n",
       "        text-align: right;\n",
       "    }\n",
       "\n",
       "    .dataframe thead th {\n",
       "        text-align: left;\n",
       "    }\n",
       "\n",
       "    .dataframe tbody tr th {\n",
       "        vertical-align: top;\n",
       "    }\n",
       "</style>\n",
       "<table border=\"1\" class=\"dataframe\">\n",
       "  <thead>\n",
       "    <tr style=\"text-align: right;\">\n",
       "      <th></th>\n",
       "      <th>img_filename</th>\n",
       "      <th>text_label</th>\n",
       "      <th>follow_up_number</th>\n",
       "      <th>img_height_original</th>\n",
       "      <th>x_pixel_spacing_original</th>\n",
       "      <th>img_width_original</th>\n",
       "      <th>age</th>\n",
       "      <th>gender</th>\n",
       "      <th>patient_id</th>\n",
       "      <th>view_position</th>\n",
       "      <th>y_pixel_spacing_original</th>\n",
       "    </tr>\n",
       "  </thead>\n",
       "  <tbody>\n",
       "    <tr>\n",
       "      <th>44187</th>\n",
       "      <td>00013774_026.png</td>\n",
       "      <td>No Finding</td>\n",
       "      <td>26</td>\n",
       "      <td>2048</td>\n",
       "      <td>0.168</td>\n",
       "      <td>2500</td>\n",
       "      <td>77</td>\n",
       "      <td>F</td>\n",
       "      <td>13774</td>\n",
       "      <td>AP</td>\n",
       "      <td>0.168</td>\n",
       "    </tr>\n",
       "    <tr>\n",
       "      <th>44188</th>\n",
       "      <td>00013774_028.png</td>\n",
       "      <td>No Finding</td>\n",
       "      <td>28</td>\n",
       "      <td>2048</td>\n",
       "      <td>0.168</td>\n",
       "      <td>2500</td>\n",
       "      <td>77</td>\n",
       "      <td>F</td>\n",
       "      <td>13774</td>\n",
       "      <td>AP</td>\n",
       "      <td>0.168</td>\n",
       "    </tr>\n",
       "  </tbody>\n",
       "</table>\n",
       "</div>"
      ],
      "text/plain": [
       "           img_filename  text_label  follow_up_number  img_height_original  \\\n",
       "44187  00013774_026.png  No Finding                26                 2048   \n",
       "44188  00013774_028.png  No Finding                28                 2048   \n",
       "\n",
       "       x_pixel_spacing_original  img_width_original  age gender  patient_id  \\\n",
       "44187                     0.168                2500   77      F       13774   \n",
       "44188                     0.168                2500   77      F       13774   \n",
       "\n",
       "      view_position  y_pixel_spacing_original  \n",
       "44187            AP                     0.168  \n",
       "44188            AP                     0.168  "
      ]
     },
     "execution_count": 13,
     "metadata": {},
     "output_type": "execute_result"
    }
   ],
   "source": [
    "train_label_data.head(2)"
   ]
  },
  {
   "cell_type": "code",
   "execution_count": 14,
   "metadata": {},
   "outputs": [
    {
     "data": {
      "text/plain": [
       "(2658, 11)"
      ]
     },
     "execution_count": 14,
     "metadata": {},
     "output_type": "execute_result"
    }
   ],
   "source": [
    "test_label_data = test_img_list[test_img_list.img_filename.isin(final_test)]\n",
    "test_label_data.shape"
   ]
  },
  {
   "cell_type": "code",
   "execution_count": 15,
   "metadata": {},
   "outputs": [
    {
     "data": {
      "text/plain": [
       "[['No Finding'],\n",
       " ['No Finding'],\n",
       " ['Infiltration'],\n",
       " ['Effusion'],\n",
       " ['Effusion'],\n",
       " ['Cardiomegaly', 'Effusion'],\n",
       " ['Infiltration'],\n",
       " ['Infiltration'],\n",
       " ['Infiltration'],\n",
       " ['No Finding']]"
      ]
     },
     "execution_count": 15,
     "metadata": {},
     "output_type": "execute_result"
    }
   ],
   "source": [
    "train_labels_str = [ i.split('|') for i in train_label_data.text_label.values.tolist()]\n",
    "(train_labels_str)[0:10]"
   ]
  },
  {
   "cell_type": "code",
   "execution_count": 16,
   "metadata": {},
   "outputs": [
    {
     "data": {
      "text/plain": [
       "[['No Finding'],\n",
       " ['No Finding'],\n",
       " ['Edema', 'Infiltration'],\n",
       " ['Effusion', 'Infiltration'],\n",
       " ['Infiltration'],\n",
       " ['Edema'],\n",
       " ['Effusion'],\n",
       " ['Atelectasis', 'Edema', 'Effusion'],\n",
       " ['Atelectasis', 'Edema', 'Effusion'],\n",
       " ['No Finding']]"
      ]
     },
     "execution_count": 16,
     "metadata": {},
     "output_type": "execute_result"
    }
   ],
   "source": [
    "test_labels_str = [ i.split('|') for i in test_label_data.text_label.values.tolist()]\n",
    "(test_labels_str)[0:10]"
   ]
  },
  {
   "cell_type": "code",
   "execution_count": 17,
   "metadata": {},
   "outputs": [
    {
     "data": {
      "text/plain": [
       "['No Finding',\n",
       " 'Atelectasis',\n",
       " 'Cardiomegaly',\n",
       " 'Consolidation',\n",
       " 'Edema',\n",
       " 'Effusion',\n",
       " 'Emphysema',\n",
       " 'Fibrosis',\n",
       " 'Hernia',\n",
       " 'Infiltration',\n",
       " 'Mass',\n",
       " 'Nodule',\n",
       " 'Pleural_Thickening',\n",
       " 'Pneumonia',\n",
       " 'Pneumothorax']"
      ]
     },
     "execution_count": 17,
     "metadata": {},
     "output_type": "execute_result"
    }
   ],
   "source": [
    "set_labels =['No Finding','Atelectasis', 'Cardiomegaly', 'Consolidation', 'Edema', 'Effusion', 'Emphysema', 'Fibrosis',\n",
    " 'Hernia', 'Infiltration', 'Mass', 'Nodule', 'Pleural_Thickening', 'Pneumonia',\n",
    " 'Pneumothorax']\n",
    "set_labels"
   ]
  },
  {
   "cell_type": "code",
   "execution_count": 18,
   "metadata": {
    "collapsed": true
   },
   "outputs": [],
   "source": [
    "from sklearn.preprocessing import MultiLabelBinarizer"
   ]
  },
  {
   "cell_type": "code",
   "execution_count": 19,
   "metadata": {},
   "outputs": [
    {
     "name": "stdout",
     "output_type": "stream",
     "text": [
      "(2658, 15)\n",
      "(7165, 15)\n"
     ]
    }
   ],
   "source": [
    "mlb = MultiLabelBinarizer(classes=set_labels)\n",
    "y_test = mlb.fit_transform((test_labels_str))\n",
    "print (y_test.shape)\n",
    "y_train = mlb.fit_transform((train_labels_str))\n",
    "print (y_train.shape)"
   ]
  },
  {
   "cell_type": "code",
   "execution_count": 20,
   "metadata": {},
   "outputs": [
    {
     "data": {
      "text/plain": [
       "array(['00013774_026.png', '00013774_028.png', '00013774_029.png', ...,\n",
       "       '00016051_007.png', '00016051_008.png', '00016051_009.png'],\n",
       "      dtype=object)"
      ]
     },
     "execution_count": 20,
     "metadata": {},
     "output_type": "execute_result"
    }
   ],
   "source": [
    "train_label_data.img_filename.values"
   ]
  },
  {
   "cell_type": "code",
   "execution_count": 21,
   "metadata": {},
   "outputs": [
    {
     "name": "stdout",
     "output_type": "stream",
     "text": [
      "Reading Train Data\n"
     ]
    },
    {
     "name": "stderr",
     "output_type": "stream",
     "text": [
      "100%|██████████████████████████████████████████████████████████████████████████████| 7165/7165 [02:38<00:00, 45.34it/s]\n"
     ]
    },
    {
     "name": "stdout",
     "output_type": "stream",
     "text": [
      "Finished Reading Train Data\n",
      "(7165, 224, 224, 3)\n"
     ]
    }
   ],
   "source": [
    "X_train = []\n",
    "# glob.glob(\"../data/images/*.png\")\n",
    "print (\"Reading Train Data\")\n",
    "for img in tqdm(train_label_data.img_filename.values):\n",
    "    n = cv2.imread(\"../data/images/\" + img)\n",
    "    resized_image = cv2.resize(n, (224, 224)) \n",
    "    X_train.append(resized_image)\n",
    "print (\"Finished Reading Train Data\")\n",
    "print (np.asarray(X_train).shape)"
   ]
  },
  {
   "cell_type": "code",
   "execution_count": 22,
   "metadata": {},
   "outputs": [
    {
     "name": "stdout",
     "output_type": "stream",
     "text": [
      "Reading Test Data\n"
     ]
    },
    {
     "name": "stderr",
     "output_type": "stream",
     "text": [
      "100%|██████████████████████████████████████████████████████████████████████████████| 2658/2658 [01:00<00:00, 43.99it/s]\n"
     ]
    },
    {
     "name": "stdout",
     "output_type": "stream",
     "text": [
      "Finished Reading Test Data\n",
      "(2658, 224, 224, 3)\n"
     ]
    }
   ],
   "source": [
    "X_test = []\n",
    "# glob.glob(\"../data/images/*.png\")\n",
    "print (\"Reading Test Data\")\n",
    "for img in tqdm(test_label_data.img_filename.values):\n",
    "    n = cv2.imread(\"../data/images/\" + img)\n",
    "    resized_image = cv2.resize(n, (224, 224)) \n",
    "    X_test.append(resized_image)\n",
    "print (\"Finished Reading Test Data\")\n",
    "print (np.asarray(X_test).shape)"
   ]
  },
  {
   "cell_type": "code",
   "execution_count": 23,
   "metadata": {},
   "outputs": [],
   "source": [
    "a = np.random.randint(0,np.asarray(X_train).shape[0])"
   ]
  },
  {
   "cell_type": "code",
   "execution_count": 24,
   "metadata": {},
   "outputs": [
    {
     "data": {
      "text/plain": [
       "'00014618_008.png'"
      ]
     },
     "execution_count": 24,
     "metadata": {},
     "output_type": "execute_result"
    }
   ],
   "source": [
    " train_label_data.img_filename.values[a]"
   ]
  },
  {
   "cell_type": "code",
   "execution_count": 25,
   "metadata": {
    "collapsed": true
   },
   "outputs": [],
   "source": [
    "sample_img = train_label_data.img_filename.values[a]"
   ]
  },
  {
   "cell_type": "code",
   "execution_count": 26,
   "metadata": {},
   "outputs": [
    {
     "data": {
      "text/plain": [
       "<matplotlib.image.AxesImage at 0x15b1d7cfeb8>"
      ]
     },
     "execution_count": 26,
     "metadata": {},
     "output_type": "execute_result"
    },
    {
     "data": {
      "image/png": "[encoded data removed]",
      "text/plain": [
       "<matplotlib.figure.Figure at 0x15b1d6a2a20>"
      ]
     },
     "metadata": {},
     "output_type": "display_data"
    }
   ],
   "source": [
    "plt.imshow(X_train[a])"
   ]
  },
  {
   "cell_type": "code",
   "execution_count": 27,
   "metadata": {},
   "outputs": [
    {
     "data": {
      "text/html": [
       "<div>\n",
       "<style>\n",
       "    .dataframe thead tr:only-child th {\n",
       "        text-align: right;\n",
       "    }\n",
       "\n",
       "    .dataframe thead th {\n",
       "        text-align: left;\n",
       "    }\n",
       "\n",
       "    .dataframe tbody tr th {\n",
       "        vertical-align: top;\n",
       "    }\n",
       "</style>\n",
       "<table border=\"1\" class=\"dataframe\">\n",
       "  <thead>\n",
       "    <tr style=\"text-align: right;\">\n",
       "      <th></th>\n",
       "      <th>img_filename</th>\n",
       "      <th>text_label</th>\n",
       "      <th>follow_up_number</th>\n",
       "      <th>img_height_original</th>\n",
       "      <th>x_pixel_spacing_original</th>\n",
       "      <th>img_width_original</th>\n",
       "      <th>age</th>\n",
       "      <th>gender</th>\n",
       "      <th>patient_id</th>\n",
       "      <th>view_position</th>\n",
       "      <th>y_pixel_spacing_original</th>\n",
       "    </tr>\n",
       "  </thead>\n",
       "  <tbody>\n",
       "    <tr>\n",
       "      <th>47042</th>\n",
       "      <td>00014618_008.png</td>\n",
       "      <td>No Finding</td>\n",
       "      <td>8</td>\n",
       "      <td>2048</td>\n",
       "      <td>0.168</td>\n",
       "      <td>2500</td>\n",
       "      <td>57</td>\n",
       "      <td>F</td>\n",
       "      <td>14618</td>\n",
       "      <td>AP</td>\n",
       "      <td>0.168</td>\n",
       "    </tr>\n",
       "  </tbody>\n",
       "</table>\n",
       "</div>"
      ],
      "text/plain": [
       "           img_filename  text_label  follow_up_number  img_height_original  \\\n",
       "47042  00014618_008.png  No Finding                 8                 2048   \n",
       "\n",
       "       x_pixel_spacing_original  img_width_original  age gender  patient_id  \\\n",
       "47042                     0.168                2500   57      F       14618   \n",
       "\n",
       "      view_position  y_pixel_spacing_original  \n",
       "47042            AP                     0.168  "
      ]
     },
     "execution_count": 27,
     "metadata": {},
     "output_type": "execute_result"
    }
   ],
   "source": [
    "train_label_data[train_label_data.img_filename == sample_img]"
   ]
  },
  {
   "cell_type": "code",
   "execution_count": 28,
   "metadata": {},
   "outputs": [
    {
     "data": {
      "text/plain": [
       "('No Finding',)"
      ]
     },
     "execution_count": 28,
     "metadata": {},
     "output_type": "execute_result"
    }
   ],
   "source": [
    "mlb.inverse_transform(y_train)[a]"
   ]
  },
  {
   "cell_type": "code",
   "execution_count": 29,
   "metadata": {},
   "outputs": [],
   "source": [
    "np.asarray(X_train).dump(\"../data/X_train.pkl\")\n",
    "np.asarray(X_test).dump(\"../data/X_test.pkl\")"
   ]
  },
  {
   "cell_type": "code",
   "execution_count": 30,
   "metadata": {},
   "outputs": [],
   "source": [
    "y_train.dump(\"../data/y_train.pkl\")\n",
    "y_test.dump(\"../data/y_test.pkl\")"
   ]
  }
 ],
 "metadata": {
  "kernelspec": {
   "display_name": "Python 3",
   "language": "python",
   "name": "python3"
  },
  "language_info": {
   "codemirror_mode": {
    "name": "ipython",
    "version": 3
   },
   "file_extension": ".py",
   "mimetype": "text/x-python",
   "name": "python",
   "nbconvert_exporter": "python",
   "pygments_lexer": "ipython3",
   "version": "3.6.1"
  }
 },
 "nbformat": 4,
 "nbformat_minor": 2
}
