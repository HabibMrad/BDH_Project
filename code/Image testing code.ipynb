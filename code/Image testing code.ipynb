{
 "cells": [
  {
   "cell_type": "code",
   "execution_count": 1,
   "metadata": {
    "collapsed": true
   },
   "outputs": [],
   "source": [
    "import io\n",
    "import requests\n",
    "from PIL import Image\n",
    "from torchvision import models, transforms\n",
    "from torch.autograd import Variable\n",
    "from torch.nn import functional as F\n",
    "import numpy as np\n",
    "import cv2\n",
    "import torch.nn as nn\n",
    "import torch\n",
    "import glob\n",
    "import matplotlib.pyplot as plt\n",
    "import matplotlib.image as mpimg\n",
    "import pandas as pd\n",
    "%matplotlib inline"
   ]
  },
  {
   "cell_type": "code",
   "execution_count": 2,
   "metadata": {},
   "outputs": [
    {
     "name": "stderr",
     "output_type": "stream",
     "text": [
      "C:\\Users\\mansiarora\\Anaconda3\\lib\\site-packages\\torch\\serialization.py:325: SourceChangeWarning: source code of class 'torch.nn.parallel.data_parallel.DataParallel' has changed. you can retrieve the original source code by accessing the object's source attribute or set `torch.nn.Module.dump_patches = True` and use the patch tool to revert the changes.\n",
      "  warnings.warn(msg, SourceChangeWarning)\n",
      "C:\\Users\\mansiarora\\Anaconda3\\lib\\site-packages\\torch\\serialization.py:325: SourceChangeWarning: source code of class 'torch.nn.modules.conv.Conv2d' has changed. you can retrieve the original source code by accessing the object's source attribute or set `torch.nn.Module.dump_patches = True` and use the patch tool to revert the changes.\n",
      "  warnings.warn(msg, SourceChangeWarning)\n",
      "C:\\Users\\mansiarora\\Anaconda3\\lib\\site-packages\\torch\\serialization.py:325: SourceChangeWarning: source code of class 'torch.nn.modules.pooling.MaxPool2d' has changed. you can retrieve the original source code by accessing the object's source attribute or set `torch.nn.Module.dump_patches = True` and use the patch tool to revert the changes.\n",
      "  warnings.warn(msg, SourceChangeWarning)\n",
      "C:\\Users\\mansiarora\\Anaconda3\\lib\\site-packages\\torch\\serialization.py:325: SourceChangeWarning: source code of class 'torch.nn.modules.linear.Linear' has changed. you can retrieve the original source code by accessing the object's source attribute or set `torch.nn.Module.dump_patches = True` and use the patch tool to revert the changes.\n",
      "  warnings.warn(msg, SourceChangeWarning)\n"
     ]
    }
   ],
   "source": [
    "## Load the trained_model\n",
    "#azure_chest_xray_sym_test = get_symbol()\n",
    "model = torch.load(\"Model_65_50_4-8-18.pth.tar\", map_location=lambda storage, loc: storage)\n",
    "#azure_chest_xray_sym_test.load_state_dict(chkpt['state_dict'])"
   ]
  },
  {
   "cell_type": "code",
   "execution_count": 3,
   "metadata": {
    "collapsed": true
   },
   "outputs": [],
   "source": [
    "def get_symbol(out_features=14, multi_gpu=2):\n",
    "    model = models.densenet.densenet121(pretrained=True)\n",
    "    # Replace classifier (FC-1000) with (FC-14)\n",
    "    model.classifier = nn.Sequential(\n",
    "        nn.Linear(model.classifier.in_features, out_features))\n",
    "#         nn.Sigmoid())\n",
    "    if multi_gpu:\n",
    "        model = nn.DataParallel(model)\n",
    "    # CUDA\n",
    "    #model.cuda()  \n",
    "    return model"
   ]
  },
  {
   "cell_type": "code",
   "execution_count": 4,
   "metadata": {
    "collapsed": true
   },
   "outputs": [],
   "source": [
    "azure_chest_xray_sym = get_symbol()\n",
    "azure_chest_xray_sym.load_state_dict(model.state_dict())"
   ]
  },
  {
   "cell_type": "code",
   "execution_count": 5,
   "metadata": {},
   "outputs": [
    {
     "data": {
      "text/plain": [
       "DataParallel(\n",
       "  (module): DenseNet(\n",
       "    (features): Sequential(\n",
       "      (conv0): Conv2d(3, 64, kernel_size=(7, 7), stride=(2, 2), padding=(3, 3), bias=False)\n",
       "      (norm0): BatchNorm2d(64, eps=1e-05, momentum=0.1, affine=True)\n",
       "      (relu0): ReLU(inplace)\n",
       "      (pool0): MaxPool2d(kernel_size=(3, 3), stride=(2, 2), padding=(1, 1), dilation=(1, 1), ceil_mode=False)\n",
       "      (denseblock1): _DenseBlock(\n",
       "        (denselayer1): _DenseLayer(\n",
       "          (norm.1): BatchNorm2d(64, eps=1e-05, momentum=0.1, affine=True)\n",
       "          (relu.1): ReLU(inplace)\n",
       "          (conv.1): Conv2d(64, 128, kernel_size=(1, 1), stride=(1, 1), bias=False)\n",
       "          (norm.2): BatchNorm2d(128, eps=1e-05, momentum=0.1, affine=True)\n",
       "          (relu.2): ReLU(inplace)\n",
       "          (conv.2): Conv2d(128, 32, kernel_size=(3, 3), stride=(1, 1), padding=(1, 1), bias=False)\n",
       "        )\n",
       "        (denselayer2): _DenseLayer(\n",
       "          (norm.1): BatchNorm2d(96, eps=1e-05, momentum=0.1, affine=True)\n",
       "          (relu.1): ReLU(inplace)\n",
       "          (conv.1): Conv2d(96, 128, kernel_size=(1, 1), stride=(1, 1), bias=False)\n",
       "          (norm.2): BatchNorm2d(128, eps=1e-05, momentum=0.1, affine=True)\n",
       "          (relu.2): ReLU(inplace)\n",
       "          (conv.2): Conv2d(128, 32, kernel_size=(3, 3), stride=(1, 1), padding=(1, 1), bias=False)\n",
       "        )\n",
       "        (denselayer3): _DenseLayer(\n",
       "          (norm.1): BatchNorm2d(128, eps=1e-05, momentum=0.1, affine=True)\n",
       "          (relu.1): ReLU(inplace)\n",
       "          (conv.1): Conv2d(128, 128, kernel_size=(1, 1), stride=(1, 1), bias=False)\n",
       "          (norm.2): BatchNorm2d(128, eps=1e-05, momentum=0.1, affine=True)\n",
       "          (relu.2): ReLU(inplace)\n",
       "          (conv.2): Conv2d(128, 32, kernel_size=(3, 3), stride=(1, 1), padding=(1, 1), bias=False)\n",
       "        )\n",
       "        (denselayer4): _DenseLayer(\n",
       "          (norm.1): BatchNorm2d(160, eps=1e-05, momentum=0.1, affine=True)\n",
       "          (relu.1): ReLU(inplace)\n",
       "          (conv.1): Conv2d(160, 128, kernel_size=(1, 1), stride=(1, 1), bias=False)\n",
       "          (norm.2): BatchNorm2d(128, eps=1e-05, momentum=0.1, affine=True)\n",
       "          (relu.2): ReLU(inplace)\n",
       "          (conv.2): Conv2d(128, 32, kernel_size=(3, 3), stride=(1, 1), padding=(1, 1), bias=False)\n",
       "        )\n",
       "        (denselayer5): _DenseLayer(\n",
       "          (norm.1): BatchNorm2d(192, eps=1e-05, momentum=0.1, affine=True)\n",
       "          (relu.1): ReLU(inplace)\n",
       "          (conv.1): Conv2d(192, 128, kernel_size=(1, 1), stride=(1, 1), bias=False)\n",
       "          (norm.2): BatchNorm2d(128, eps=1e-05, momentum=0.1, affine=True)\n",
       "          (relu.2): ReLU(inplace)\n",
       "          (conv.2): Conv2d(128, 32, kernel_size=(3, 3), stride=(1, 1), padding=(1, 1), bias=False)\n",
       "        )\n",
       "        (denselayer6): _DenseLayer(\n",
       "          (norm.1): BatchNorm2d(224, eps=1e-05, momentum=0.1, affine=True)\n",
       "          (relu.1): ReLU(inplace)\n",
       "          (conv.1): Conv2d(224, 128, kernel_size=(1, 1), stride=(1, 1), bias=False)\n",
       "          (norm.2): BatchNorm2d(128, eps=1e-05, momentum=0.1, affine=True)\n",
       "          (relu.2): ReLU(inplace)\n",
       "          (conv.2): Conv2d(128, 32, kernel_size=(3, 3), stride=(1, 1), padding=(1, 1), bias=False)\n",
       "        )\n",
       "      )\n",
       "      (transition1): _Transition(\n",
       "        (norm): BatchNorm2d(256, eps=1e-05, momentum=0.1, affine=True)\n",
       "        (relu): ReLU(inplace)\n",
       "        (conv): Conv2d(256, 128, kernel_size=(1, 1), stride=(1, 1), bias=False)\n",
       "        (pool): AvgPool2d(kernel_size=2, stride=2, padding=0, ceil_mode=False, count_include_pad=True)\n",
       "      )\n",
       "      (denseblock2): _DenseBlock(\n",
       "        (denselayer1): _DenseLayer(\n",
       "          (norm.1): BatchNorm2d(128, eps=1e-05, momentum=0.1, affine=True)\n",
       "          (relu.1): ReLU(inplace)\n",
       "          (conv.1): Conv2d(128, 128, kernel_size=(1, 1), stride=(1, 1), bias=False)\n",
       "          (norm.2): BatchNorm2d(128, eps=1e-05, momentum=0.1, affine=True)\n",
       "          (relu.2): ReLU(inplace)\n",
       "          (conv.2): Conv2d(128, 32, kernel_size=(3, 3), stride=(1, 1), padding=(1, 1), bias=False)\n",
       "        )\n",
       "        (denselayer2): _DenseLayer(\n",
       "          (norm.1): BatchNorm2d(160, eps=1e-05, momentum=0.1, affine=True)\n",
       "          (relu.1): ReLU(inplace)\n",
       "          (conv.1): Conv2d(160, 128, kernel_size=(1, 1), stride=(1, 1), bias=False)\n",
       "          (norm.2): BatchNorm2d(128, eps=1e-05, momentum=0.1, affine=True)\n",
       "          (relu.2): ReLU(inplace)\n",
       "          (conv.2): Conv2d(128, 32, kernel_size=(3, 3), stride=(1, 1), padding=(1, 1), bias=False)\n",
       "        )\n",
       "        (denselayer3): _DenseLayer(\n",
       "          (norm.1): BatchNorm2d(192, eps=1e-05, momentum=0.1, affine=True)\n",
       "          (relu.1): ReLU(inplace)\n",
       "          (conv.1): Conv2d(192, 128, kernel_size=(1, 1), stride=(1, 1), bias=False)\n",
       "          (norm.2): BatchNorm2d(128, eps=1e-05, momentum=0.1, affine=True)\n",
       "          (relu.2): ReLU(inplace)\n",
       "          (conv.2): Conv2d(128, 32, kernel_size=(3, 3), stride=(1, 1), padding=(1, 1), bias=False)\n",
       "        )\n",
       "        (denselayer4): _DenseLayer(\n",
       "          (norm.1): BatchNorm2d(224, eps=1e-05, momentum=0.1, affine=True)\n",
       "          (relu.1): ReLU(inplace)\n",
       "          (conv.1): Conv2d(224, 128, kernel_size=(1, 1), stride=(1, 1), bias=False)\n",
       "          (norm.2): BatchNorm2d(128, eps=1e-05, momentum=0.1, affine=True)\n",
       "          (relu.2): ReLU(inplace)\n",
       "          (conv.2): Conv2d(128, 32, kernel_size=(3, 3), stride=(1, 1), padding=(1, 1), bias=False)\n",
       "        )\n",
       "        (denselayer5): _DenseLayer(\n",
       "          (norm.1): BatchNorm2d(256, eps=1e-05, momentum=0.1, affine=True)\n",
       "          (relu.1): ReLU(inplace)\n",
       "          (conv.1): Conv2d(256, 128, kernel_size=(1, 1), stride=(1, 1), bias=False)\n",
       "          (norm.2): BatchNorm2d(128, eps=1e-05, momentum=0.1, affine=True)\n",
       "          (relu.2): ReLU(inplace)\n",
       "          (conv.2): Conv2d(128, 32, kernel_size=(3, 3), stride=(1, 1), padding=(1, 1), bias=False)\n",
       "        )\n",
       "        (denselayer6): _DenseLayer(\n",
       "          (norm.1): BatchNorm2d(288, eps=1e-05, momentum=0.1, affine=True)\n",
       "          (relu.1): ReLU(inplace)\n",
       "          (conv.1): Conv2d(288, 128, kernel_size=(1, 1), stride=(1, 1), bias=False)\n",
       "          (norm.2): BatchNorm2d(128, eps=1e-05, momentum=0.1, affine=True)\n",
       "          (relu.2): ReLU(inplace)\n",
       "          (conv.2): Conv2d(128, 32, kernel_size=(3, 3), stride=(1, 1), padding=(1, 1), bias=False)\n",
       "        )\n",
       "        (denselayer7): _DenseLayer(\n",
       "          (norm.1): BatchNorm2d(320, eps=1e-05, momentum=0.1, affine=True)\n",
       "          (relu.1): ReLU(inplace)\n",
       "          (conv.1): Conv2d(320, 128, kernel_size=(1, 1), stride=(1, 1), bias=False)\n",
       "          (norm.2): BatchNorm2d(128, eps=1e-05, momentum=0.1, affine=True)\n",
       "          (relu.2): ReLU(inplace)\n",
       "          (conv.2): Conv2d(128, 32, kernel_size=(3, 3), stride=(1, 1), padding=(1, 1), bias=False)\n",
       "        )\n",
       "        (denselayer8): _DenseLayer(\n",
       "          (norm.1): BatchNorm2d(352, eps=1e-05, momentum=0.1, affine=True)\n",
       "          (relu.1): ReLU(inplace)\n",
       "          (conv.1): Conv2d(352, 128, kernel_size=(1, 1), stride=(1, 1), bias=False)\n",
       "          (norm.2): BatchNorm2d(128, eps=1e-05, momentum=0.1, affine=True)\n",
       "          (relu.2): ReLU(inplace)\n",
       "          (conv.2): Conv2d(128, 32, kernel_size=(3, 3), stride=(1, 1), padding=(1, 1), bias=False)\n",
       "        )\n",
       "        (denselayer9): _DenseLayer(\n",
       "          (norm.1): BatchNorm2d(384, eps=1e-05, momentum=0.1, affine=True)\n",
       "          (relu.1): ReLU(inplace)\n",
       "          (conv.1): Conv2d(384, 128, kernel_size=(1, 1), stride=(1, 1), bias=False)\n",
       "          (norm.2): BatchNorm2d(128, eps=1e-05, momentum=0.1, affine=True)\n",
       "          (relu.2): ReLU(inplace)\n",
       "          (conv.2): Conv2d(128, 32, kernel_size=(3, 3), stride=(1, 1), padding=(1, 1), bias=False)\n",
       "        )\n",
       "        (denselayer10): _DenseLayer(\n",
       "          (norm.1): BatchNorm2d(416, eps=1e-05, momentum=0.1, affine=True)\n",
       "          (relu.1): ReLU(inplace)\n",
       "          (conv.1): Conv2d(416, 128, kernel_size=(1, 1), stride=(1, 1), bias=False)\n",
       "          (norm.2): BatchNorm2d(128, eps=1e-05, momentum=0.1, affine=True)\n",
       "          (relu.2): ReLU(inplace)\n",
       "          (conv.2): Conv2d(128, 32, kernel_size=(3, 3), stride=(1, 1), padding=(1, 1), bias=False)\n",
       "        )\n",
       "        (denselayer11): _DenseLayer(\n",
       "          (norm.1): BatchNorm2d(448, eps=1e-05, momentum=0.1, affine=True)\n",
       "          (relu.1): ReLU(inplace)\n",
       "          (conv.1): Conv2d(448, 128, kernel_size=(1, 1), stride=(1, 1), bias=False)\n",
       "          (norm.2): BatchNorm2d(128, eps=1e-05, momentum=0.1, affine=True)\n",
       "          (relu.2): ReLU(inplace)\n",
       "          (conv.2): Conv2d(128, 32, kernel_size=(3, 3), stride=(1, 1), padding=(1, 1), bias=False)\n",
       "        )\n",
       "        (denselayer12): _DenseLayer(\n",
       "          (norm.1): BatchNorm2d(480, eps=1e-05, momentum=0.1, affine=True)\n",
       "          (relu.1): ReLU(inplace)\n",
       "          (conv.1): Conv2d(480, 128, kernel_size=(1, 1), stride=(1, 1), bias=False)\n",
       "          (norm.2): BatchNorm2d(128, eps=1e-05, momentum=0.1, affine=True)\n",
       "          (relu.2): ReLU(inplace)\n",
       "          (conv.2): Conv2d(128, 32, kernel_size=(3, 3), stride=(1, 1), padding=(1, 1), bias=False)\n",
       "        )\n",
       "      )\n",
       "      (transition2): _Transition(\n",
       "        (norm): BatchNorm2d(512, eps=1e-05, momentum=0.1, affine=True)\n",
       "        (relu): ReLU(inplace)\n",
       "        (conv): Conv2d(512, 256, kernel_size=(1, 1), stride=(1, 1), bias=False)\n",
       "        (pool): AvgPool2d(kernel_size=2, stride=2, padding=0, ceil_mode=False, count_include_pad=True)\n",
       "      )\n",
       "      (denseblock3): _DenseBlock(\n",
       "        (denselayer1): _DenseLayer(\n",
       "          (norm.1): BatchNorm2d(256, eps=1e-05, momentum=0.1, affine=True)\n",
       "          (relu.1): ReLU(inplace)\n",
       "          (conv.1): Conv2d(256, 128, kernel_size=(1, 1), stride=(1, 1), bias=False)\n",
       "          (norm.2): BatchNorm2d(128, eps=1e-05, momentum=0.1, affine=True)\n",
       "          (relu.2): ReLU(inplace)\n",
       "          (conv.2): Conv2d(128, 32, kernel_size=(3, 3), stride=(1, 1), padding=(1, 1), bias=False)\n",
       "        )\n",
       "        (denselayer2): _DenseLayer(\n",
       "          (norm.1): BatchNorm2d(288, eps=1e-05, momentum=0.1, affine=True)\n",
       "          (relu.1): ReLU(inplace)\n",
       "          (conv.1): Conv2d(288, 128, kernel_size=(1, 1), stride=(1, 1), bias=False)\n",
       "          (norm.2): BatchNorm2d(128, eps=1e-05, momentum=0.1, affine=True)\n",
       "          (relu.2): ReLU(inplace)\n",
       "          (conv.2): Conv2d(128, 32, kernel_size=(3, 3), stride=(1, 1), padding=(1, 1), bias=False)\n",
       "        )\n",
       "        (denselayer3): _DenseLayer(\n",
       "          (norm.1): BatchNorm2d(320, eps=1e-05, momentum=0.1, affine=True)\n",
       "          (relu.1): ReLU(inplace)\n",
       "          (conv.1): Conv2d(320, 128, kernel_size=(1, 1), stride=(1, 1), bias=False)\n",
       "          (norm.2): BatchNorm2d(128, eps=1e-05, momentum=0.1, affine=True)\n",
       "          (relu.2): ReLU(inplace)\n",
       "          (conv.2): Conv2d(128, 32, kernel_size=(3, 3), stride=(1, 1), padding=(1, 1), bias=False)\n",
       "        )\n",
       "        (denselayer4): _DenseLayer(\n",
       "          (norm.1): BatchNorm2d(352, eps=1e-05, momentum=0.1, affine=True)\n",
       "          (relu.1): ReLU(inplace)\n",
       "          (conv.1): Conv2d(352, 128, kernel_size=(1, 1), stride=(1, 1), bias=False)\n",
       "          (norm.2): BatchNorm2d(128, eps=1e-05, momentum=0.1, affine=True)\n",
       "          (relu.2): ReLU(inplace)\n",
       "          (conv.2): Conv2d(128, 32, kernel_size=(3, 3), stride=(1, 1), padding=(1, 1), bias=False)\n",
       "        )\n",
       "        (denselayer5): _DenseLayer(\n",
       "          (norm.1): BatchNorm2d(384, eps=1e-05, momentum=0.1, affine=True)\n",
       "          (relu.1): ReLU(inplace)\n",
       "          (conv.1): Conv2d(384, 128, kernel_size=(1, 1), stride=(1, 1), bias=False)\n",
       "          (norm.2): BatchNorm2d(128, eps=1e-05, momentum=0.1, affine=True)\n",
       "          (relu.2): ReLU(inplace)\n",
       "          (conv.2): Conv2d(128, 32, kernel_size=(3, 3), stride=(1, 1), padding=(1, 1), bias=False)\n",
       "        )\n",
       "        (denselayer6): _DenseLayer(\n",
       "          (norm.1): BatchNorm2d(416, eps=1e-05, momentum=0.1, affine=True)\n",
       "          (relu.1): ReLU(inplace)\n",
       "          (conv.1): Conv2d(416, 128, kernel_size=(1, 1), stride=(1, 1), bias=False)\n",
       "          (norm.2): BatchNorm2d(128, eps=1e-05, momentum=0.1, affine=True)\n",
       "          (relu.2): ReLU(inplace)\n",
       "          (conv.2): Conv2d(128, 32, kernel_size=(3, 3), stride=(1, 1), padding=(1, 1), bias=False)\n",
       "        )\n",
       "        (denselayer7): _DenseLayer(\n",
       "          (norm.1): BatchNorm2d(448, eps=1e-05, momentum=0.1, affine=True)\n",
       "          (relu.1): ReLU(inplace)\n",
       "          (conv.1): Conv2d(448, 128, kernel_size=(1, 1), stride=(1, 1), bias=False)\n",
       "          (norm.2): BatchNorm2d(128, eps=1e-05, momentum=0.1, affine=True)\n",
       "          (relu.2): ReLU(inplace)\n",
       "          (conv.2): Conv2d(128, 32, kernel_size=(3, 3), stride=(1, 1), padding=(1, 1), bias=False)\n",
       "        )\n",
       "        (denselayer8): _DenseLayer(\n",
       "          (norm.1): BatchNorm2d(480, eps=1e-05, momentum=0.1, affine=True)\n",
       "          (relu.1): ReLU(inplace)\n",
       "          (conv.1): Conv2d(480, 128, kernel_size=(1, 1), stride=(1, 1), bias=False)\n",
       "          (norm.2): BatchNorm2d(128, eps=1e-05, momentum=0.1, affine=True)\n",
       "          (relu.2): ReLU(inplace)\n",
       "          (conv.2): Conv2d(128, 32, kernel_size=(3, 3), stride=(1, 1), padding=(1, 1), bias=False)\n",
       "        )\n",
       "        (denselayer9): _DenseLayer(\n",
       "          (norm.1): BatchNorm2d(512, eps=1e-05, momentum=0.1, affine=True)\n",
       "          (relu.1): ReLU(inplace)\n",
       "          (conv.1): Conv2d(512, 128, kernel_size=(1, 1), stride=(1, 1), bias=False)\n",
       "          (norm.2): BatchNorm2d(128, eps=1e-05, momentum=0.1, affine=True)\n",
       "          (relu.2): ReLU(inplace)\n",
       "          (conv.2): Conv2d(128, 32, kernel_size=(3, 3), stride=(1, 1), padding=(1, 1), bias=False)\n",
       "        )\n",
       "        (denselayer10): _DenseLayer(\n",
       "          (norm.1): BatchNorm2d(544, eps=1e-05, momentum=0.1, affine=True)\n",
       "          (relu.1): ReLU(inplace)\n",
       "          (conv.1): Conv2d(544, 128, kernel_size=(1, 1), stride=(1, 1), bias=False)\n",
       "          (norm.2): BatchNorm2d(128, eps=1e-05, momentum=0.1, affine=True)\n",
       "          (relu.2): ReLU(inplace)\n",
       "          (conv.2): Conv2d(128, 32, kernel_size=(3, 3), stride=(1, 1), padding=(1, 1), bias=False)\n",
       "        )\n",
       "        (denselayer11): _DenseLayer(\n",
       "          (norm.1): BatchNorm2d(576, eps=1e-05, momentum=0.1, affine=True)\n",
       "          (relu.1): ReLU(inplace)\n",
       "          (conv.1): Conv2d(576, 128, kernel_size=(1, 1), stride=(1, 1), bias=False)\n",
       "          (norm.2): BatchNorm2d(128, eps=1e-05, momentum=0.1, affine=True)\n",
       "          (relu.2): ReLU(inplace)\n",
       "          (conv.2): Conv2d(128, 32, kernel_size=(3, 3), stride=(1, 1), padding=(1, 1), bias=False)\n",
       "        )\n",
       "        (denselayer12): _DenseLayer(\n",
       "          (norm.1): BatchNorm2d(608, eps=1e-05, momentum=0.1, affine=True)\n",
       "          (relu.1): ReLU(inplace)\n",
       "          (conv.1): Conv2d(608, 128, kernel_size=(1, 1), stride=(1, 1), bias=False)\n",
       "          (norm.2): BatchNorm2d(128, eps=1e-05, momentum=0.1, affine=True)\n",
       "          (relu.2): ReLU(inplace)\n",
       "          (conv.2): Conv2d(128, 32, kernel_size=(3, 3), stride=(1, 1), padding=(1, 1), bias=False)\n",
       "        )\n",
       "        (denselayer13): _DenseLayer(\n",
       "          (norm.1): BatchNorm2d(640, eps=1e-05, momentum=0.1, affine=True)\n",
       "          (relu.1): ReLU(inplace)\n",
       "          (conv.1): Conv2d(640, 128, kernel_size=(1, 1), stride=(1, 1), bias=False)\n",
       "          (norm.2): BatchNorm2d(128, eps=1e-05, momentum=0.1, affine=True)\n",
       "          (relu.2): ReLU(inplace)\n",
       "          (conv.2): Conv2d(128, 32, kernel_size=(3, 3), stride=(1, 1), padding=(1, 1), bias=False)\n",
       "        )\n",
       "        (denselayer14): _DenseLayer(\n",
       "          (norm.1): BatchNorm2d(672, eps=1e-05, momentum=0.1, affine=True)\n",
       "          (relu.1): ReLU(inplace)\n",
       "          (conv.1): Conv2d(672, 128, kernel_size=(1, 1), stride=(1, 1), bias=False)\n",
       "          (norm.2): BatchNorm2d(128, eps=1e-05, momentum=0.1, affine=True)\n",
       "          (relu.2): ReLU(inplace)\n",
       "          (conv.2): Conv2d(128, 32, kernel_size=(3, 3), stride=(1, 1), padding=(1, 1), bias=False)\n",
       "        )\n",
       "        (denselayer15): _DenseLayer(\n",
       "          (norm.1): BatchNorm2d(704, eps=1e-05, momentum=0.1, affine=True)\n",
       "          (relu.1): ReLU(inplace)\n",
       "          (conv.1): Conv2d(704, 128, kernel_size=(1, 1), stride=(1, 1), bias=False)\n",
       "          (norm.2): BatchNorm2d(128, eps=1e-05, momentum=0.1, affine=True)\n",
       "          (relu.2): ReLU(inplace)\n",
       "          (conv.2): Conv2d(128, 32, kernel_size=(3, 3), stride=(1, 1), padding=(1, 1), bias=False)\n",
       "        )\n",
       "        (denselayer16): _DenseLayer(\n",
       "          (norm.1): BatchNorm2d(736, eps=1e-05, momentum=0.1, affine=True)\n",
       "          (relu.1): ReLU(inplace)\n",
       "          (conv.1): Conv2d(736, 128, kernel_size=(1, 1), stride=(1, 1), bias=False)\n",
       "          (norm.2): BatchNorm2d(128, eps=1e-05, momentum=0.1, affine=True)\n",
       "          (relu.2): ReLU(inplace)\n",
       "          (conv.2): Conv2d(128, 32, kernel_size=(3, 3), stride=(1, 1), padding=(1, 1), bias=False)\n",
       "        )\n",
       "        (denselayer17): _DenseLayer(\n",
       "          (norm.1): BatchNorm2d(768, eps=1e-05, momentum=0.1, affine=True)\n",
       "          (relu.1): ReLU(inplace)\n",
       "          (conv.1): Conv2d(768, 128, kernel_size=(1, 1), stride=(1, 1), bias=False)\n",
       "          (norm.2): BatchNorm2d(128, eps=1e-05, momentum=0.1, affine=True)\n",
       "          (relu.2): ReLU(inplace)\n",
       "          (conv.2): Conv2d(128, 32, kernel_size=(3, 3), stride=(1, 1), padding=(1, 1), bias=False)\n",
       "        )\n",
       "        (denselayer18): _DenseLayer(\n",
       "          (norm.1): BatchNorm2d(800, eps=1e-05, momentum=0.1, affine=True)\n",
       "          (relu.1): ReLU(inplace)\n",
       "          (conv.1): Conv2d(800, 128, kernel_size=(1, 1), stride=(1, 1), bias=False)\n",
       "          (norm.2): BatchNorm2d(128, eps=1e-05, momentum=0.1, affine=True)\n",
       "          (relu.2): ReLU(inplace)\n",
       "          (conv.2): Conv2d(128, 32, kernel_size=(3, 3), stride=(1, 1), padding=(1, 1), bias=False)\n",
       "        )\n",
       "        (denselayer19): _DenseLayer(\n",
       "          (norm.1): BatchNorm2d(832, eps=1e-05, momentum=0.1, affine=True)\n",
       "          (relu.1): ReLU(inplace)\n",
       "          (conv.1): Conv2d(832, 128, kernel_size=(1, 1), stride=(1, 1), bias=False)\n",
       "          (norm.2): BatchNorm2d(128, eps=1e-05, momentum=0.1, affine=True)\n",
       "          (relu.2): ReLU(inplace)\n",
       "          (conv.2): Conv2d(128, 32, kernel_size=(3, 3), stride=(1, 1), padding=(1, 1), bias=False)\n",
       "        )\n",
       "        (denselayer20): _DenseLayer(\n",
       "          (norm.1): BatchNorm2d(864, eps=1e-05, momentum=0.1, affine=True)\n",
       "          (relu.1): ReLU(inplace)\n",
       "          (conv.1): Conv2d(864, 128, kernel_size=(1, 1), stride=(1, 1), bias=False)\n",
       "          (norm.2): BatchNorm2d(128, eps=1e-05, momentum=0.1, affine=True)\n",
       "          (relu.2): ReLU(inplace)\n",
       "          (conv.2): Conv2d(128, 32, kernel_size=(3, 3), stride=(1, 1), padding=(1, 1), bias=False)\n",
       "        )\n",
       "        (denselayer21): _DenseLayer(\n",
       "          (norm.1): BatchNorm2d(896, eps=1e-05, momentum=0.1, affine=True)\n",
       "          (relu.1): ReLU(inplace)\n",
       "          (conv.1): Conv2d(896, 128, kernel_size=(1, 1), stride=(1, 1), bias=False)\n",
       "          (norm.2): BatchNorm2d(128, eps=1e-05, momentum=0.1, affine=True)\n",
       "          (relu.2): ReLU(inplace)\n",
       "          (conv.2): Conv2d(128, 32, kernel_size=(3, 3), stride=(1, 1), padding=(1, 1), bias=False)\n",
       "        )\n",
       "        (denselayer22): _DenseLayer(\n",
       "          (norm.1): BatchNorm2d(928, eps=1e-05, momentum=0.1, affine=True)\n",
       "          (relu.1): ReLU(inplace)\n",
       "          (conv.1): Conv2d(928, 128, kernel_size=(1, 1), stride=(1, 1), bias=False)\n",
       "          (norm.2): BatchNorm2d(128, eps=1e-05, momentum=0.1, affine=True)\n",
       "          (relu.2): ReLU(inplace)\n",
       "          (conv.2): Conv2d(128, 32, kernel_size=(3, 3), stride=(1, 1), padding=(1, 1), bias=False)\n",
       "        )\n",
       "        (denselayer23): _DenseLayer(\n",
       "          (norm.1): BatchNorm2d(960, eps=1e-05, momentum=0.1, affine=True)\n",
       "          (relu.1): ReLU(inplace)\n",
       "          (conv.1): Conv2d(960, 128, kernel_size=(1, 1), stride=(1, 1), bias=False)\n",
       "          (norm.2): BatchNorm2d(128, eps=1e-05, momentum=0.1, affine=True)\n",
       "          (relu.2): ReLU(inplace)\n",
       "          (conv.2): Conv2d(128, 32, kernel_size=(3, 3), stride=(1, 1), padding=(1, 1), bias=False)\n",
       "        )\n",
       "        (denselayer24): _DenseLayer(\n",
       "          (norm.1): BatchNorm2d(992, eps=1e-05, momentum=0.1, affine=True)\n",
       "          (relu.1): ReLU(inplace)\n",
       "          (conv.1): Conv2d(992, 128, kernel_size=(1, 1), stride=(1, 1), bias=False)\n",
       "          (norm.2): BatchNorm2d(128, eps=1e-05, momentum=0.1, affine=True)\n",
       "          (relu.2): ReLU(inplace)\n",
       "          (conv.2): Conv2d(128, 32, kernel_size=(3, 3), stride=(1, 1), padding=(1, 1), bias=False)\n",
       "        )\n",
       "      )\n",
       "      (transition3): _Transition(\n",
       "        (norm): BatchNorm2d(1024, eps=1e-05, momentum=0.1, affine=True)\n",
       "        (relu): ReLU(inplace)\n",
       "        (conv): Conv2d(1024, 512, kernel_size=(1, 1), stride=(1, 1), bias=False)\n",
       "        (pool): AvgPool2d(kernel_size=2, stride=2, padding=0, ceil_mode=False, count_include_pad=True)\n",
       "      )\n",
       "      (denseblock4): _DenseBlock(\n",
       "        (denselayer1): _DenseLayer(\n",
       "          (norm.1): BatchNorm2d(512, eps=1e-05, momentum=0.1, affine=True)\n",
       "          (relu.1): ReLU(inplace)\n",
       "          (conv.1): Conv2d(512, 128, kernel_size=(1, 1), stride=(1, 1), bias=False)\n",
       "          (norm.2): BatchNorm2d(128, eps=1e-05, momentum=0.1, affine=True)\n",
       "          (relu.2): ReLU(inplace)\n",
       "          (conv.2): Conv2d(128, 32, kernel_size=(3, 3), stride=(1, 1), padding=(1, 1), bias=False)\n",
       "        )\n",
       "        (denselayer2): _DenseLayer(\n",
       "          (norm.1): BatchNorm2d(544, eps=1e-05, momentum=0.1, affine=True)\n",
       "          (relu.1): ReLU(inplace)\n",
       "          (conv.1): Conv2d(544, 128, kernel_size=(1, 1), stride=(1, 1), bias=False)\n",
       "          (norm.2): BatchNorm2d(128, eps=1e-05, momentum=0.1, affine=True)\n",
       "          (relu.2): ReLU(inplace)\n",
       "          (conv.2): Conv2d(128, 32, kernel_size=(3, 3), stride=(1, 1), padding=(1, 1), bias=False)\n",
       "        )\n",
       "        (denselayer3): _DenseLayer(\n",
       "          (norm.1): BatchNorm2d(576, eps=1e-05, momentum=0.1, affine=True)\n",
       "          (relu.1): ReLU(inplace)\n",
       "          (conv.1): Conv2d(576, 128, kernel_size=(1, 1), stride=(1, 1), bias=False)\n",
       "          (norm.2): BatchNorm2d(128, eps=1e-05, momentum=0.1, affine=True)\n",
       "          (relu.2): ReLU(inplace)\n",
       "          (conv.2): Conv2d(128, 32, kernel_size=(3, 3), stride=(1, 1), padding=(1, 1), bias=False)\n",
       "        )\n",
       "        (denselayer4): _DenseLayer(\n",
       "          (norm.1): BatchNorm2d(608, eps=1e-05, momentum=0.1, affine=True)\n",
       "          (relu.1): ReLU(inplace)\n",
       "          (conv.1): Conv2d(608, 128, kernel_size=(1, 1), stride=(1, 1), bias=False)\n",
       "          (norm.2): BatchNorm2d(128, eps=1e-05, momentum=0.1, affine=True)\n",
       "          (relu.2): ReLU(inplace)\n",
       "          (conv.2): Conv2d(128, 32, kernel_size=(3, 3), stride=(1, 1), padding=(1, 1), bias=False)\n",
       "        )\n",
       "        (denselayer5): _DenseLayer(\n",
       "          (norm.1): BatchNorm2d(640, eps=1e-05, momentum=0.1, affine=True)\n",
       "          (relu.1): ReLU(inplace)\n",
       "          (conv.1): Conv2d(640, 128, kernel_size=(1, 1), stride=(1, 1), bias=False)\n",
       "          (norm.2): BatchNorm2d(128, eps=1e-05, momentum=0.1, affine=True)\n",
       "          (relu.2): ReLU(inplace)\n",
       "          (conv.2): Conv2d(128, 32, kernel_size=(3, 3), stride=(1, 1), padding=(1, 1), bias=False)\n",
       "        )\n",
       "        (denselayer6): _DenseLayer(\n",
       "          (norm.1): BatchNorm2d(672, eps=1e-05, momentum=0.1, affine=True)\n",
       "          (relu.1): ReLU(inplace)\n",
       "          (conv.1): Conv2d(672, 128, kernel_size=(1, 1), stride=(1, 1), bias=False)\n",
       "          (norm.2): BatchNorm2d(128, eps=1e-05, momentum=0.1, affine=True)\n",
       "          (relu.2): ReLU(inplace)\n",
       "          (conv.2): Conv2d(128, 32, kernel_size=(3, 3), stride=(1, 1), padding=(1, 1), bias=False)\n",
       "        )\n",
       "        (denselayer7): _DenseLayer(\n",
       "          (norm.1): BatchNorm2d(704, eps=1e-05, momentum=0.1, affine=True)\n",
       "          (relu.1): ReLU(inplace)\n",
       "          (conv.1): Conv2d(704, 128, kernel_size=(1, 1), stride=(1, 1), bias=False)\n",
       "          (norm.2): BatchNorm2d(128, eps=1e-05, momentum=0.1, affine=True)\n",
       "          (relu.2): ReLU(inplace)\n",
       "          (conv.2): Conv2d(128, 32, kernel_size=(3, 3), stride=(1, 1), padding=(1, 1), bias=False)\n",
       "        )\n",
       "        (denselayer8): _DenseLayer(\n",
       "          (norm.1): BatchNorm2d(736, eps=1e-05, momentum=0.1, affine=True)\n",
       "          (relu.1): ReLU(inplace)\n",
       "          (conv.1): Conv2d(736, 128, kernel_size=(1, 1), stride=(1, 1), bias=False)\n",
       "          (norm.2): BatchNorm2d(128, eps=1e-05, momentum=0.1, affine=True)\n",
       "          (relu.2): ReLU(inplace)\n",
       "          (conv.2): Conv2d(128, 32, kernel_size=(3, 3), stride=(1, 1), padding=(1, 1), bias=False)\n",
       "        )\n",
       "        (denselayer9): _DenseLayer(\n",
       "          (norm.1): BatchNorm2d(768, eps=1e-05, momentum=0.1, affine=True)\n",
       "          (relu.1): ReLU(inplace)\n",
       "          (conv.1): Conv2d(768, 128, kernel_size=(1, 1), stride=(1, 1), bias=False)\n",
       "          (norm.2): BatchNorm2d(128, eps=1e-05, momentum=0.1, affine=True)\n",
       "          (relu.2): ReLU(inplace)\n",
       "          (conv.2): Conv2d(128, 32, kernel_size=(3, 3), stride=(1, 1), padding=(1, 1), bias=False)\n",
       "        )\n",
       "        (denselayer10): _DenseLayer(\n",
       "          (norm.1): BatchNorm2d(800, eps=1e-05, momentum=0.1, affine=True)\n",
       "          (relu.1): ReLU(inplace)\n",
       "          (conv.1): Conv2d(800, 128, kernel_size=(1, 1), stride=(1, 1), bias=False)\n",
       "          (norm.2): BatchNorm2d(128, eps=1e-05, momentum=0.1, affine=True)\n",
       "          (relu.2): ReLU(inplace)\n",
       "          (conv.2): Conv2d(128, 32, kernel_size=(3, 3), stride=(1, 1), padding=(1, 1), bias=False)\n",
       "        )\n",
       "        (denselayer11): _DenseLayer(\n",
       "          (norm.1): BatchNorm2d(832, eps=1e-05, momentum=0.1, affine=True)\n",
       "          (relu.1): ReLU(inplace)\n",
       "          (conv.1): Conv2d(832, 128, kernel_size=(1, 1), stride=(1, 1), bias=False)\n",
       "          (norm.2): BatchNorm2d(128, eps=1e-05, momentum=0.1, affine=True)\n",
       "          (relu.2): ReLU(inplace)\n",
       "          (conv.2): Conv2d(128, 32, kernel_size=(3, 3), stride=(1, 1), padding=(1, 1), bias=False)\n",
       "        )\n",
       "        (denselayer12): _DenseLayer(\n",
       "          (norm.1): BatchNorm2d(864, eps=1e-05, momentum=0.1, affine=True)\n",
       "          (relu.1): ReLU(inplace)\n",
       "          (conv.1): Conv2d(864, 128, kernel_size=(1, 1), stride=(1, 1), bias=False)\n",
       "          (norm.2): BatchNorm2d(128, eps=1e-05, momentum=0.1, affine=True)\n",
       "          (relu.2): ReLU(inplace)\n",
       "          (conv.2): Conv2d(128, 32, kernel_size=(3, 3), stride=(1, 1), padding=(1, 1), bias=False)\n",
       "        )\n",
       "        (denselayer13): _DenseLayer(\n",
       "          (norm.1): BatchNorm2d(896, eps=1e-05, momentum=0.1, affine=True)\n",
       "          (relu.1): ReLU(inplace)\n",
       "          (conv.1): Conv2d(896, 128, kernel_size=(1, 1), stride=(1, 1), bias=False)\n",
       "          (norm.2): BatchNorm2d(128, eps=1e-05, momentum=0.1, affine=True)\n",
       "          (relu.2): ReLU(inplace)\n",
       "          (conv.2): Conv2d(128, 32, kernel_size=(3, 3), stride=(1, 1), padding=(1, 1), bias=False)\n",
       "        )\n",
       "        (denselayer14): _DenseLayer(\n",
       "          (norm.1): BatchNorm2d(928, eps=1e-05, momentum=0.1, affine=True)\n",
       "          (relu.1): ReLU(inplace)\n",
       "          (conv.1): Conv2d(928, 128, kernel_size=(1, 1), stride=(1, 1), bias=False)\n",
       "          (norm.2): BatchNorm2d(128, eps=1e-05, momentum=0.1, affine=True)\n",
       "          (relu.2): ReLU(inplace)\n",
       "          (conv.2): Conv2d(128, 32, kernel_size=(3, 3), stride=(1, 1), padding=(1, 1), bias=False)\n",
       "        )\n",
       "        (denselayer15): _DenseLayer(\n",
       "          (norm.1): BatchNorm2d(960, eps=1e-05, momentum=0.1, affine=True)\n",
       "          (relu.1): ReLU(inplace)\n",
       "          (conv.1): Conv2d(960, 128, kernel_size=(1, 1), stride=(1, 1), bias=False)\n",
       "          (norm.2): BatchNorm2d(128, eps=1e-05, momentum=0.1, affine=True)\n",
       "          (relu.2): ReLU(inplace)\n",
       "          (conv.2): Conv2d(128, 32, kernel_size=(3, 3), stride=(1, 1), padding=(1, 1), bias=False)\n",
       "        )\n",
       "        (denselayer16): _DenseLayer(\n",
       "          (norm.1): BatchNorm2d(992, eps=1e-05, momentum=0.1, affine=True)\n",
       "          (relu.1): ReLU(inplace)\n",
       "          (conv.1): Conv2d(992, 128, kernel_size=(1, 1), stride=(1, 1), bias=False)\n",
       "          (norm.2): BatchNorm2d(128, eps=1e-05, momentum=0.1, affine=True)\n",
       "          (relu.2): ReLU(inplace)\n",
       "          (conv.2): Conv2d(128, 32, kernel_size=(3, 3), stride=(1, 1), padding=(1, 1), bias=False)\n",
       "        )\n",
       "      )\n",
       "      (norm5): BatchNorm2d(1024, eps=1e-05, momentum=0.1, affine=True)\n",
       "    )\n",
       "    (classifier): Sequential(\n",
       "      (0): Linear(in_features=1024, out_features=14, bias=True)\n",
       "    )\n",
       "  )\n",
       ")"
      ]
     },
     "execution_count": 5,
     "metadata": {},
     "output_type": "execute_result"
    }
   ],
   "source": [
    "azure_chest_xray_sym.eval()"
   ]
  },
  {
   "cell_type": "code",
   "execution_count": 6,
   "metadata": {
    "collapsed": true
   },
   "outputs": [],
   "source": [
    "filename = \"00005288_014.jpeg\"\n",
    "img_pil = Image.open(filename)\n",
    "img_pil.thumbnail((224,224),Image.ANTIALIAS)"
   ]
  },
  {
   "cell_type": "code",
   "execution_count": 7,
   "metadata": {
    "collapsed": true
   },
   "outputs": [],
   "source": [
    "normalize = transforms.Normalize(\n",
    "   mean=[0.485, 0.456, 0.406],\n",
    "   std=[0.229, 0.224, 0.225]\n",
    ")\n",
    "preprocess = transforms.Compose([\n",
    "   transforms.Resize(224),\n",
    "    transforms.Grayscale(num_output_channels=3),\n",
    "   transforms.ToTensor(),\n",
    "   normalize\n",
    "])"
   ]
  },
  {
   "cell_type": "code",
   "execution_count": 8,
   "metadata": {
    "collapsed": true
   },
   "outputs": [],
   "source": [
    "train_img_list = pd.read_pickle(\"BDH_Project/code/train_val_filtered.pkl\")\n",
    "test_img_list = pd.read_pickle(\"BDH_Project/code/train_val_filtered.pkl\")\n",
    "label_df = pd.concat([train_img_list[['img_filename', 'text_label']], \n",
    "           test_img_list[['img_filename', 'text_label']]])"
   ]
  },
  {
   "cell_type": "code",
   "execution_count": 9,
   "metadata": {
    "collapsed": true
   },
   "outputs": [],
   "source": [
    "label_df.drop_duplicates(inplace=True)"
   ]
  },
  {
   "cell_type": "code",
   "execution_count": 10,
   "metadata": {},
   "outputs": [
    {
     "data": {
      "text/plain": [
       "(85690, 2)"
      ]
     },
     "execution_count": 10,
     "metadata": {},
     "output_type": "execute_result"
    }
   ],
   "source": [
    "label_df.shape"
   ]
  },
  {
   "cell_type": "code",
   "execution_count": 11,
   "metadata": {},
   "outputs": [
    {
     "data": {
      "text/html": [
       "<div>\n",
       "<style>\n",
       "    .dataframe thead tr:only-child th {\n",
       "        text-align: right;\n",
       "    }\n",
       "\n",
       "    .dataframe thead th {\n",
       "        text-align: left;\n",
       "    }\n",
       "\n",
       "    .dataframe tbody tr th {\n",
       "        vertical-align: top;\n",
       "    }\n",
       "</style>\n",
       "<table border=\"1\" class=\"dataframe\">\n",
       "  <thead>\n",
       "    <tr style=\"text-align: right;\">\n",
       "      <th></th>\n",
       "      <th>img_filename</th>\n",
       "      <th>text_label</th>\n",
       "    </tr>\n",
       "  </thead>\n",
       "  <tbody>\n",
       "    <tr>\n",
       "      <th>16287</th>\n",
       "      <td>00005288_014.png</td>\n",
       "      <td>Edema|Mass|Pneumonia</td>\n",
       "    </tr>\n",
       "  </tbody>\n",
       "</table>\n",
       "</div>"
      ],
      "text/plain": [
       "           img_filename            text_label\n",
       "16287  00005288_014.png  Edema|Mass|Pneumonia"
      ]
     },
     "execution_count": 11,
     "metadata": {},
     "output_type": "execute_result"
    }
   ],
   "source": [
    "label_df[label_df[\"img_filename\"] == \"00005288_014.png\"]"
   ]
  },
  {
   "cell_type": "code",
   "execution_count": 12,
   "metadata": {
    "collapsed": true
   },
   "outputs": [],
   "source": [
    "img_tensor = preprocess(img_pil)"
   ]
  },
  {
   "cell_type": "code",
   "execution_count": 13,
   "metadata": {},
   "outputs": [
    {
     "data": {
      "text/plain": [
       "torch.Size([1, 3, 224, 224])"
      ]
     },
     "execution_count": 13,
     "metadata": {},
     "output_type": "execute_result"
    }
   ],
   "source": [
    "img_variable = Variable(img_tensor.unsqueeze(0))\n",
    "img_variable.shape"
   ]
  },
  {
   "cell_type": "code",
   "execution_count": 14,
   "metadata": {
    "collapsed": true
   },
   "outputs": [],
   "source": [
    "result = azure_chest_xray_sym(img_variable)"
   ]
  },
  {
   "cell_type": "code",
   "execution_count": 15,
   "metadata": {},
   "outputs": [
    {
     "data": {
      "text/plain": [
       "Variable containing:\n",
       "-57.4706\n",
       "[torch.FloatTensor of size 1]"
      ]
     },
     "execution_count": 15,
     "metadata": {},
     "output_type": "execute_result"
    }
   ],
   "source": [
    "result.sum()"
   ]
  },
  {
   "cell_type": "code",
   "execution_count": 16,
   "metadata": {
    "collapsed": true
   },
   "outputs": [],
   "source": [
    "classes = ['Atelectasis', 'Cardiomegaly', 'Consolidation', 'Edema', 'Effusion', 'Emphysema',\n",
    "                 'Fibrosis','Hernia', 'Infiltration', 'Mass', 'Nodule', 'Pleural_Thickening',\n",
    "                 'Pneumonia','Pneumothorax']"
   ]
  },
  {
   "cell_type": "code",
   "execution_count": 17,
   "metadata": {},
   "outputs": [
    {
     "data": {
      "text/plain": [
       "Variable containing:\n",
       "\n",
       "Columns 0 to 7 \n",
       " -4.5129  -5.6139  -1.9651  -1.4398  -0.5750  -7.7180  -5.8821 -11.1930\n",
       "\n",
       "Columns 8 to 13 \n",
       " -0.3895  -3.8607  -2.4266  -3.4014  -1.6242  -6.8683\n",
       "[torch.FloatTensor of size 1x14]"
      ]
     },
     "execution_count": 17,
     "metadata": {},
     "output_type": "execute_result"
    }
   ],
   "source": [
    "result"
   ]
  },
  {
   "cell_type": "code",
   "execution_count": 23,
   "metadata": {},
   "outputs": [
    {
     "name": "stderr",
     "output_type": "stream",
     "text": [
      "C:\\Users\\mansiarora\\Anaconda3\\lib\\site-packages\\ipykernel_launcher.py:1: UserWarning: Implicit dimension choice for softmax has been deprecated. Change the call to include dim=X as an argument.\n",
      "  \"\"\"Entry point for launching an IPython kernel.\n"
     ]
    }
   ],
   "source": [
    "h_x = F.softmax(result).data.squeeze()\n",
    "probs, idx = h_x.sort(0, True)"
   ]
  },
  {
   "cell_type": "code",
   "execution_count": 24,
   "metadata": {},
   "outputs": [
    {
     "data": {
      "text/plain": [
       "\n",
       " 3.4284e-01\n",
       " 2.8477e-01\n",
       " 1.1994e-01\n",
       " 9.9733e-02\n",
       " 7.0927e-02\n",
       " 4.4706e-02\n",
       " 1.6867e-02\n",
       " 1.0655e-02\n",
       " 5.5500e-03\n",
       " 1.8456e-03\n",
       " 1.4115e-03\n",
       " 5.2647e-04\n",
       " 2.2509e-04\n",
       " 6.9689e-06\n",
       "[torch.FloatTensor of size 14]"
      ]
     },
     "execution_count": 24,
     "metadata": {},
     "output_type": "execute_result"
    }
   ],
   "source": [
    "probs"
   ]
  },
  {
   "cell_type": "code",
   "execution_count": 25,
   "metadata": {},
   "outputs": [
    {
     "name": "stdout",
     "output_type": "stream",
     "text": [
      "0.343 -> Infiltration\n",
      "0.285 -> Effusion\n",
      "0.120 -> Edema\n",
      "0.100 -> Pneumonia\n",
      "0.071 -> Consolidation\n",
      "0.045 -> Nodule\n",
      "0.017 -> Pleural_Thickening\n",
      "0.011 -> Mass\n",
      "0.006 -> Atelectasis\n",
      "0.002 -> Cardiomegaly\n",
      "0.001 -> Fibrosis\n",
      "0.001 -> Pneumothorax\n",
      "0.000 -> Emphysema\n",
      "0.000 -> Hernia\n"
     ]
    }
   ],
   "source": [
    "for i in range(0, 14):\n",
    "    print('{:.3f} -> {}'.format(probs[i], classes[idx[i]]))"
   ]
  },
  {
   "cell_type": "code",
   "execution_count": 21,
   "metadata": {
    "collapsed": true
   },
   "outputs": [],
   "source": [
    "# Atelectasis|Cardiomegaly|Consolidation|Edema|Effusion|Pleural_Thickening\n"
   ]
  },
  {
   "cell_type": "code",
   "execution_count": null,
   "metadata": {
    "collapsed": true
   },
   "outputs": [],
   "source": [
    "# download the imagenet category list\n",
    "# classes = {int(key):value for (key, value)\n",
    "#           in requests.get(LABELS_URL).json().items()}\n",
    "classes = ['Atelectasis', 'Cardiomegaly', 'Consolidation', 'Edema', 'Effusion', 'Emphysema',\n",
    "                 'Fibrosis','Hernia', 'Infiltration', 'Mass', 'Nodule', 'Pleural_Thickening',\n",
    "                 'Pneumonia','Pneumothorax']"
   ]
  },
  {
   "cell_type": "code",
   "execution_count": null,
   "metadata": {
    "collapsed": true,
    "scrolled": true
   },
   "outputs": [],
   "source": [
    "h_x = (logit).data.squeeze()\n",
    "probs, idx = h_x.sort(0, True)"
   ]
  },
  {
   "cell_type": "code",
   "execution_count": null,
   "metadata": {
    "collapsed": true,
    "scrolled": true
   },
   "outputs": [],
   "source": [
    "for i in range(0, 5):\n",
    "    print('{:.3f} -> {}'.format(probs[i], classes[idx[i]]))"
   ]
  }
 ],
 "metadata": {
  "kernelspec": {
   "display_name": "Python 3",
   "language": "python",
   "name": "python3"
  },
  "language_info": {
   "codemirror_mode": {
    "name": "ipython",
    "version": 3
   },
   "file_extension": ".py",
   "mimetype": "text/x-python",
   "name": "python",
   "nbconvert_exporter": "python",
   "pygments_lexer": "ipython3",
   "version": "3.6.3"
  }
 },
 "nbformat": 4,
 "nbformat_minor": 2
}
