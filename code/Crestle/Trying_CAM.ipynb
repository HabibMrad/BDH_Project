{
 "cells": [
  {
   "cell_type": "code",
   "execution_count": 1,
   "metadata": {
    "collapsed": true
   },
   "outputs": [],
   "source": [
    "import io\n",
    "import requests\n",
    "from PIL import Image\n",
    "from torchvision import models, transforms\n",
    "from torch.autograd import Variable\n",
    "from torch.nn import functional as F\n",
    "import numpy as np\n",
    "import cv2"
   ]
  },
  {
   "cell_type": "code",
   "execution_count": 24,
   "metadata": {
    "collapsed": true
   },
   "outputs": [],
   "source": [
    "# # input image\n",
    "LABELS_URL = 'https://s3.amazonaws.com/outcome-blog/imagenet/labels.json'\n",
    "# IMG_URL = 'http://media.mlive.com/news_impact/photo/9933031-large.jpg'"
   ]
  },
  {
   "cell_type": "code",
   "execution_count": 3,
   "metadata": {},
   "outputs": [
    {
     "name": "stderr",
     "output_type": "stream",
     "text": [
      "Downloading: \"https://download.pytorch.org/models/densenet121-a639ec97.pth\" to C:\\Users\\maddy/.torch\\models\\densenet121-a639ec97.pth\n",
      "100%|█████████████████████████████████████████████████████████████████| 32342954/32342954 [00:03<00:00, 9779996.61it/s]\n"
     ]
    }
   ],
   "source": [
    "net = models.densenet121(pretrained=True)\n",
    "finalconv_name = 'features'"
   ]
  },
  {
   "cell_type": "code",
   "execution_count": 4,
   "metadata": {},
   "outputs": [
    {
     "data": {
      "text/plain": [
       "DenseNet(\n",
       "  (features): Sequential(\n",
       "    (conv0): Conv2d(3, 64, kernel_size=(7, 7), stride=(2, 2), padding=(3, 3), bias=False)\n",
       "    (norm0): BatchNorm2d(64, eps=1e-05, momentum=0.1, affine=True)\n",
       "    (relu0): ReLU(inplace)\n",
       "    (pool0): MaxPool2d(kernel_size=(3, 3), stride=(2, 2), padding=(1, 1), dilation=(1, 1), ceil_mode=False)\n",
       "    (denseblock1): _DenseBlock(\n",
       "      (denselayer1): _DenseLayer(\n",
       "        (norm.1): BatchNorm2d(64, eps=1e-05, momentum=0.1, affine=True)\n",
       "        (relu.1): ReLU(inplace)\n",
       "        (conv.1): Conv2d(64, 128, kernel_size=(1, 1), stride=(1, 1), bias=False)\n",
       "        (norm.2): BatchNorm2d(128, eps=1e-05, momentum=0.1, affine=True)\n",
       "        (relu.2): ReLU(inplace)\n",
       "        (conv.2): Conv2d(128, 32, kernel_size=(3, 3), stride=(1, 1), padding=(1, 1), bias=False)\n",
       "      )\n",
       "      (denselayer2): _DenseLayer(\n",
       "        (norm.1): BatchNorm2d(96, eps=1e-05, momentum=0.1, affine=True)\n",
       "        (relu.1): ReLU(inplace)\n",
       "        (conv.1): Conv2d(96, 128, kernel_size=(1, 1), stride=(1, 1), bias=False)\n",
       "        (norm.2): BatchNorm2d(128, eps=1e-05, momentum=0.1, affine=True)\n",
       "        (relu.2): ReLU(inplace)\n",
       "        (conv.2): Conv2d(128, 32, kernel_size=(3, 3), stride=(1, 1), padding=(1, 1), bias=False)\n",
       "      )\n",
       "      (denselayer3): _DenseLayer(\n",
       "        (norm.1): BatchNorm2d(128, eps=1e-05, momentum=0.1, affine=True)\n",
       "        (relu.1): ReLU(inplace)\n",
       "        (conv.1): Conv2d(128, 128, kernel_size=(1, 1), stride=(1, 1), bias=False)\n",
       "        (norm.2): BatchNorm2d(128, eps=1e-05, momentum=0.1, affine=True)\n",
       "        (relu.2): ReLU(inplace)\n",
       "        (conv.2): Conv2d(128, 32, kernel_size=(3, 3), stride=(1, 1), padding=(1, 1), bias=False)\n",
       "      )\n",
       "      (denselayer4): _DenseLayer(\n",
       "        (norm.1): BatchNorm2d(160, eps=1e-05, momentum=0.1, affine=True)\n",
       "        (relu.1): ReLU(inplace)\n",
       "        (conv.1): Conv2d(160, 128, kernel_size=(1, 1), stride=(1, 1), bias=False)\n",
       "        (norm.2): BatchNorm2d(128, eps=1e-05, momentum=0.1, affine=True)\n",
       "        (relu.2): ReLU(inplace)\n",
       "        (conv.2): Conv2d(128, 32, kernel_size=(3, 3), stride=(1, 1), padding=(1, 1), bias=False)\n",
       "      )\n",
       "      (denselayer5): _DenseLayer(\n",
       "        (norm.1): BatchNorm2d(192, eps=1e-05, momentum=0.1, affine=True)\n",
       "        (relu.1): ReLU(inplace)\n",
       "        (conv.1): Conv2d(192, 128, kernel_size=(1, 1), stride=(1, 1), bias=False)\n",
       "        (norm.2): BatchNorm2d(128, eps=1e-05, momentum=0.1, affine=True)\n",
       "        (relu.2): ReLU(inplace)\n",
       "        (conv.2): Conv2d(128, 32, kernel_size=(3, 3), stride=(1, 1), padding=(1, 1), bias=False)\n",
       "      )\n",
       "      (denselayer6): _DenseLayer(\n",
       "        (norm.1): BatchNorm2d(224, eps=1e-05, momentum=0.1, affine=True)\n",
       "        (relu.1): ReLU(inplace)\n",
       "        (conv.1): Conv2d(224, 128, kernel_size=(1, 1), stride=(1, 1), bias=False)\n",
       "        (norm.2): BatchNorm2d(128, eps=1e-05, momentum=0.1, affine=True)\n",
       "        (relu.2): ReLU(inplace)\n",
       "        (conv.2): Conv2d(128, 32, kernel_size=(3, 3), stride=(1, 1), padding=(1, 1), bias=False)\n",
       "      )\n",
       "    )\n",
       "    (transition1): _Transition(\n",
       "      (norm): BatchNorm2d(256, eps=1e-05, momentum=0.1, affine=True)\n",
       "      (relu): ReLU(inplace)\n",
       "      (conv): Conv2d(256, 128, kernel_size=(1, 1), stride=(1, 1), bias=False)\n",
       "      (pool): AvgPool2d(kernel_size=2, stride=2, padding=0, ceil_mode=False, count_include_pad=True)\n",
       "    )\n",
       "    (denseblock2): _DenseBlock(\n",
       "      (denselayer1): _DenseLayer(\n",
       "        (norm.1): BatchNorm2d(128, eps=1e-05, momentum=0.1, affine=True)\n",
       "        (relu.1): ReLU(inplace)\n",
       "        (conv.1): Conv2d(128, 128, kernel_size=(1, 1), stride=(1, 1), bias=False)\n",
       "        (norm.2): BatchNorm2d(128, eps=1e-05, momentum=0.1, affine=True)\n",
       "        (relu.2): ReLU(inplace)\n",
       "        (conv.2): Conv2d(128, 32, kernel_size=(3, 3), stride=(1, 1), padding=(1, 1), bias=False)\n",
       "      )\n",
       "      (denselayer2): _DenseLayer(\n",
       "        (norm.1): BatchNorm2d(160, eps=1e-05, momentum=0.1, affine=True)\n",
       "        (relu.1): ReLU(inplace)\n",
       "        (conv.1): Conv2d(160, 128, kernel_size=(1, 1), stride=(1, 1), bias=False)\n",
       "        (norm.2): BatchNorm2d(128, eps=1e-05, momentum=0.1, affine=True)\n",
       "        (relu.2): ReLU(inplace)\n",
       "        (conv.2): Conv2d(128, 32, kernel_size=(3, 3), stride=(1, 1), padding=(1, 1), bias=False)\n",
       "      )\n",
       "      (denselayer3): _DenseLayer(\n",
       "        (norm.1): BatchNorm2d(192, eps=1e-05, momentum=0.1, affine=True)\n",
       "        (relu.1): ReLU(inplace)\n",
       "        (conv.1): Conv2d(192, 128, kernel_size=(1, 1), stride=(1, 1), bias=False)\n",
       "        (norm.2): BatchNorm2d(128, eps=1e-05, momentum=0.1, affine=True)\n",
       "        (relu.2): ReLU(inplace)\n",
       "        (conv.2): Conv2d(128, 32, kernel_size=(3, 3), stride=(1, 1), padding=(1, 1), bias=False)\n",
       "      )\n",
       "      (denselayer4): _DenseLayer(\n",
       "        (norm.1): BatchNorm2d(224, eps=1e-05, momentum=0.1, affine=True)\n",
       "        (relu.1): ReLU(inplace)\n",
       "        (conv.1): Conv2d(224, 128, kernel_size=(1, 1), stride=(1, 1), bias=False)\n",
       "        (norm.2): BatchNorm2d(128, eps=1e-05, momentum=0.1, affine=True)\n",
       "        (relu.2): ReLU(inplace)\n",
       "        (conv.2): Conv2d(128, 32, kernel_size=(3, 3), stride=(1, 1), padding=(1, 1), bias=False)\n",
       "      )\n",
       "      (denselayer5): _DenseLayer(\n",
       "        (norm.1): BatchNorm2d(256, eps=1e-05, momentum=0.1, affine=True)\n",
       "        (relu.1): ReLU(inplace)\n",
       "        (conv.1): Conv2d(256, 128, kernel_size=(1, 1), stride=(1, 1), bias=False)\n",
       "        (norm.2): BatchNorm2d(128, eps=1e-05, momentum=0.1, affine=True)\n",
       "        (relu.2): ReLU(inplace)\n",
       "        (conv.2): Conv2d(128, 32, kernel_size=(3, 3), stride=(1, 1), padding=(1, 1), bias=False)\n",
       "      )\n",
       "      (denselayer6): _DenseLayer(\n",
       "        (norm.1): BatchNorm2d(288, eps=1e-05, momentum=0.1, affine=True)\n",
       "        (relu.1): ReLU(inplace)\n",
       "        (conv.1): Conv2d(288, 128, kernel_size=(1, 1), stride=(1, 1), bias=False)\n",
       "        (norm.2): BatchNorm2d(128, eps=1e-05, momentum=0.1, affine=True)\n",
       "        (relu.2): ReLU(inplace)\n",
       "        (conv.2): Conv2d(128, 32, kernel_size=(3, 3), stride=(1, 1), padding=(1, 1), bias=False)\n",
       "      )\n",
       "      (denselayer7): _DenseLayer(\n",
       "        (norm.1): BatchNorm2d(320, eps=1e-05, momentum=0.1, affine=True)\n",
       "        (relu.1): ReLU(inplace)\n",
       "        (conv.1): Conv2d(320, 128, kernel_size=(1, 1), stride=(1, 1), bias=False)\n",
       "        (norm.2): BatchNorm2d(128, eps=1e-05, momentum=0.1, affine=True)\n",
       "        (relu.2): ReLU(inplace)\n",
       "        (conv.2): Conv2d(128, 32, kernel_size=(3, 3), stride=(1, 1), padding=(1, 1), bias=False)\n",
       "      )\n",
       "      (denselayer8): _DenseLayer(\n",
       "        (norm.1): BatchNorm2d(352, eps=1e-05, momentum=0.1, affine=True)\n",
       "        (relu.1): ReLU(inplace)\n",
       "        (conv.1): Conv2d(352, 128, kernel_size=(1, 1), stride=(1, 1), bias=False)\n",
       "        (norm.2): BatchNorm2d(128, eps=1e-05, momentum=0.1, affine=True)\n",
       "        (relu.2): ReLU(inplace)\n",
       "        (conv.2): Conv2d(128, 32, kernel_size=(3, 3), stride=(1, 1), padding=(1, 1), bias=False)\n",
       "      )\n",
       "      (denselayer9): _DenseLayer(\n",
       "        (norm.1): BatchNorm2d(384, eps=1e-05, momentum=0.1, affine=True)\n",
       "        (relu.1): ReLU(inplace)\n",
       "        (conv.1): Conv2d(384, 128, kernel_size=(1, 1), stride=(1, 1), bias=False)\n",
       "        (norm.2): BatchNorm2d(128, eps=1e-05, momentum=0.1, affine=True)\n",
       "        (relu.2): ReLU(inplace)\n",
       "        (conv.2): Conv2d(128, 32, kernel_size=(3, 3), stride=(1, 1), padding=(1, 1), bias=False)\n",
       "      )\n",
       "      (denselayer10): _DenseLayer(\n",
       "        (norm.1): BatchNorm2d(416, eps=1e-05, momentum=0.1, affine=True)\n",
       "        (relu.1): ReLU(inplace)\n",
       "        (conv.1): Conv2d(416, 128, kernel_size=(1, 1), stride=(1, 1), bias=False)\n",
       "        (norm.2): BatchNorm2d(128, eps=1e-05, momentum=0.1, affine=True)\n",
       "        (relu.2): ReLU(inplace)\n",
       "        (conv.2): Conv2d(128, 32, kernel_size=(3, 3), stride=(1, 1), padding=(1, 1), bias=False)\n",
       "      )\n",
       "      (denselayer11): _DenseLayer(\n",
       "        (norm.1): BatchNorm2d(448, eps=1e-05, momentum=0.1, affine=True)\n",
       "        (relu.1): ReLU(inplace)\n",
       "        (conv.1): Conv2d(448, 128, kernel_size=(1, 1), stride=(1, 1), bias=False)\n",
       "        (norm.2): BatchNorm2d(128, eps=1e-05, momentum=0.1, affine=True)\n",
       "        (relu.2): ReLU(inplace)\n",
       "        (conv.2): Conv2d(128, 32, kernel_size=(3, 3), stride=(1, 1), padding=(1, 1), bias=False)\n",
       "      )\n",
       "      (denselayer12): _DenseLayer(\n",
       "        (norm.1): BatchNorm2d(480, eps=1e-05, momentum=0.1, affine=True)\n",
       "        (relu.1): ReLU(inplace)\n",
       "        (conv.1): Conv2d(480, 128, kernel_size=(1, 1), stride=(1, 1), bias=False)\n",
       "        (norm.2): BatchNorm2d(128, eps=1e-05, momentum=0.1, affine=True)\n",
       "        (relu.2): ReLU(inplace)\n",
       "        (conv.2): Conv2d(128, 32, kernel_size=(3, 3), stride=(1, 1), padding=(1, 1), bias=False)\n",
       "      )\n",
       "    )\n",
       "    (transition2): _Transition(\n",
       "      (norm): BatchNorm2d(512, eps=1e-05, momentum=0.1, affine=True)\n",
       "      (relu): ReLU(inplace)\n",
       "      (conv): Conv2d(512, 256, kernel_size=(1, 1), stride=(1, 1), bias=False)\n",
       "      (pool): AvgPool2d(kernel_size=2, stride=2, padding=0, ceil_mode=False, count_include_pad=True)\n",
       "    )\n",
       "    (denseblock3): _DenseBlock(\n",
       "      (denselayer1): _DenseLayer(\n",
       "        (norm.1): BatchNorm2d(256, eps=1e-05, momentum=0.1, affine=True)\n",
       "        (relu.1): ReLU(inplace)\n",
       "        (conv.1): Conv2d(256, 128, kernel_size=(1, 1), stride=(1, 1), bias=False)\n",
       "        (norm.2): BatchNorm2d(128, eps=1e-05, momentum=0.1, affine=True)\n",
       "        (relu.2): ReLU(inplace)\n",
       "        (conv.2): Conv2d(128, 32, kernel_size=(3, 3), stride=(1, 1), padding=(1, 1), bias=False)\n",
       "      )\n",
       "      (denselayer2): _DenseLayer(\n",
       "        (norm.1): BatchNorm2d(288, eps=1e-05, momentum=0.1, affine=True)\n",
       "        (relu.1): ReLU(inplace)\n",
       "        (conv.1): Conv2d(288, 128, kernel_size=(1, 1), stride=(1, 1), bias=False)\n",
       "        (norm.2): BatchNorm2d(128, eps=1e-05, momentum=0.1, affine=True)\n",
       "        (relu.2): ReLU(inplace)\n",
       "        (conv.2): Conv2d(128, 32, kernel_size=(3, 3), stride=(1, 1), padding=(1, 1), bias=False)\n",
       "      )\n",
       "      (denselayer3): _DenseLayer(\n",
       "        (norm.1): BatchNorm2d(320, eps=1e-05, momentum=0.1, affine=True)\n",
       "        (relu.1): ReLU(inplace)\n",
       "        (conv.1): Conv2d(320, 128, kernel_size=(1, 1), stride=(1, 1), bias=False)\n",
       "        (norm.2): BatchNorm2d(128, eps=1e-05, momentum=0.1, affine=True)\n",
       "        (relu.2): ReLU(inplace)\n",
       "        (conv.2): Conv2d(128, 32, kernel_size=(3, 3), stride=(1, 1), padding=(1, 1), bias=False)\n",
       "      )\n",
       "      (denselayer4): _DenseLayer(\n",
       "        (norm.1): BatchNorm2d(352, eps=1e-05, momentum=0.1, affine=True)\n",
       "        (relu.1): ReLU(inplace)\n",
       "        (conv.1): Conv2d(352, 128, kernel_size=(1, 1), stride=(1, 1), bias=False)\n",
       "        (norm.2): BatchNorm2d(128, eps=1e-05, momentum=0.1, affine=True)\n",
       "        (relu.2): ReLU(inplace)\n",
       "        (conv.2): Conv2d(128, 32, kernel_size=(3, 3), stride=(1, 1), padding=(1, 1), bias=False)\n",
       "      )\n",
       "      (denselayer5): _DenseLayer(\n",
       "        (norm.1): BatchNorm2d(384, eps=1e-05, momentum=0.1, affine=True)\n",
       "        (relu.1): ReLU(inplace)\n",
       "        (conv.1): Conv2d(384, 128, kernel_size=(1, 1), stride=(1, 1), bias=False)\n",
       "        (norm.2): BatchNorm2d(128, eps=1e-05, momentum=0.1, affine=True)\n",
       "        (relu.2): ReLU(inplace)\n",
       "        (conv.2): Conv2d(128, 32, kernel_size=(3, 3), stride=(1, 1), padding=(1, 1), bias=False)\n",
       "      )\n",
       "      (denselayer6): _DenseLayer(\n",
       "        (norm.1): BatchNorm2d(416, eps=1e-05, momentum=0.1, affine=True)\n",
       "        (relu.1): ReLU(inplace)\n",
       "        (conv.1): Conv2d(416, 128, kernel_size=(1, 1), stride=(1, 1), bias=False)\n",
       "        (norm.2): BatchNorm2d(128, eps=1e-05, momentum=0.1, affine=True)\n",
       "        (relu.2): ReLU(inplace)\n",
       "        (conv.2): Conv2d(128, 32, kernel_size=(3, 3), stride=(1, 1), padding=(1, 1), bias=False)\n",
       "      )\n",
       "      (denselayer7): _DenseLayer(\n",
       "        (norm.1): BatchNorm2d(448, eps=1e-05, momentum=0.1, affine=True)\n",
       "        (relu.1): ReLU(inplace)\n",
       "        (conv.1): Conv2d(448, 128, kernel_size=(1, 1), stride=(1, 1), bias=False)\n",
       "        (norm.2): BatchNorm2d(128, eps=1e-05, momentum=0.1, affine=True)\n",
       "        (relu.2): ReLU(inplace)\n",
       "        (conv.2): Conv2d(128, 32, kernel_size=(3, 3), stride=(1, 1), padding=(1, 1), bias=False)\n",
       "      )\n",
       "      (denselayer8): _DenseLayer(\n",
       "        (norm.1): BatchNorm2d(480, eps=1e-05, momentum=0.1, affine=True)\n",
       "        (relu.1): ReLU(inplace)\n",
       "        (conv.1): Conv2d(480, 128, kernel_size=(1, 1), stride=(1, 1), bias=False)\n",
       "        (norm.2): BatchNorm2d(128, eps=1e-05, momentum=0.1, affine=True)\n",
       "        (relu.2): ReLU(inplace)\n",
       "        (conv.2): Conv2d(128, 32, kernel_size=(3, 3), stride=(1, 1), padding=(1, 1), bias=False)\n",
       "      )\n",
       "      (denselayer9): _DenseLayer(\n",
       "        (norm.1): BatchNorm2d(512, eps=1e-05, momentum=0.1, affine=True)\n",
       "        (relu.1): ReLU(inplace)\n",
       "        (conv.1): Conv2d(512, 128, kernel_size=(1, 1), stride=(1, 1), bias=False)\n",
       "        (norm.2): BatchNorm2d(128, eps=1e-05, momentum=0.1, affine=True)\n",
       "        (relu.2): ReLU(inplace)\n",
       "        (conv.2): Conv2d(128, 32, kernel_size=(3, 3), stride=(1, 1), padding=(1, 1), bias=False)\n",
       "      )\n",
       "      (denselayer10): _DenseLayer(\n",
       "        (norm.1): BatchNorm2d(544, eps=1e-05, momentum=0.1, affine=True)\n",
       "        (relu.1): ReLU(inplace)\n",
       "        (conv.1): Conv2d(544, 128, kernel_size=(1, 1), stride=(1, 1), bias=False)\n",
       "        (norm.2): BatchNorm2d(128, eps=1e-05, momentum=0.1, affine=True)\n",
       "        (relu.2): ReLU(inplace)\n",
       "        (conv.2): Conv2d(128, 32, kernel_size=(3, 3), stride=(1, 1), padding=(1, 1), bias=False)\n",
       "      )\n",
       "      (denselayer11): _DenseLayer(\n",
       "        (norm.1): BatchNorm2d(576, eps=1e-05, momentum=0.1, affine=True)\n",
       "        (relu.1): ReLU(inplace)\n",
       "        (conv.1): Conv2d(576, 128, kernel_size=(1, 1), stride=(1, 1), bias=False)\n",
       "        (norm.2): BatchNorm2d(128, eps=1e-05, momentum=0.1, affine=True)\n",
       "        (relu.2): ReLU(inplace)\n",
       "        (conv.2): Conv2d(128, 32, kernel_size=(3, 3), stride=(1, 1), padding=(1, 1), bias=False)\n",
       "      )\n",
       "      (denselayer12): _DenseLayer(\n",
       "        (norm.1): BatchNorm2d(608, eps=1e-05, momentum=0.1, affine=True)\n",
       "        (relu.1): ReLU(inplace)\n",
       "        (conv.1): Conv2d(608, 128, kernel_size=(1, 1), stride=(1, 1), bias=False)\n",
       "        (norm.2): BatchNorm2d(128, eps=1e-05, momentum=0.1, affine=True)\n",
       "        (relu.2): ReLU(inplace)\n",
       "        (conv.2): Conv2d(128, 32, kernel_size=(3, 3), stride=(1, 1), padding=(1, 1), bias=False)\n",
       "      )\n",
       "      (denselayer13): _DenseLayer(\n",
       "        (norm.1): BatchNorm2d(640, eps=1e-05, momentum=0.1, affine=True)\n",
       "        (relu.1): ReLU(inplace)\n",
       "        (conv.1): Conv2d(640, 128, kernel_size=(1, 1), stride=(1, 1), bias=False)\n",
       "        (norm.2): BatchNorm2d(128, eps=1e-05, momentum=0.1, affine=True)\n",
       "        (relu.2): ReLU(inplace)\n",
       "        (conv.2): Conv2d(128, 32, kernel_size=(3, 3), stride=(1, 1), padding=(1, 1), bias=False)\n",
       "      )\n",
       "      (denselayer14): _DenseLayer(\n",
       "        (norm.1): BatchNorm2d(672, eps=1e-05, momentum=0.1, affine=True)\n",
       "        (relu.1): ReLU(inplace)\n",
       "        (conv.1): Conv2d(672, 128, kernel_size=(1, 1), stride=(1, 1), bias=False)\n",
       "        (norm.2): BatchNorm2d(128, eps=1e-05, momentum=0.1, affine=True)\n",
       "        (relu.2): ReLU(inplace)\n",
       "        (conv.2): Conv2d(128, 32, kernel_size=(3, 3), stride=(1, 1), padding=(1, 1), bias=False)\n",
       "      )\n",
       "      (denselayer15): _DenseLayer(\n",
       "        (norm.1): BatchNorm2d(704, eps=1e-05, momentum=0.1, affine=True)\n",
       "        (relu.1): ReLU(inplace)\n",
       "        (conv.1): Conv2d(704, 128, kernel_size=(1, 1), stride=(1, 1), bias=False)\n",
       "        (norm.2): BatchNorm2d(128, eps=1e-05, momentum=0.1, affine=True)\n",
       "        (relu.2): ReLU(inplace)\n",
       "        (conv.2): Conv2d(128, 32, kernel_size=(3, 3), stride=(1, 1), padding=(1, 1), bias=False)\n",
       "      )\n",
       "      (denselayer16): _DenseLayer(\n",
       "        (norm.1): BatchNorm2d(736, eps=1e-05, momentum=0.1, affine=True)\n",
       "        (relu.1): ReLU(inplace)\n",
       "        (conv.1): Conv2d(736, 128, kernel_size=(1, 1), stride=(1, 1), bias=False)\n",
       "        (norm.2): BatchNorm2d(128, eps=1e-05, momentum=0.1, affine=True)\n",
       "        (relu.2): ReLU(inplace)\n",
       "        (conv.2): Conv2d(128, 32, kernel_size=(3, 3), stride=(1, 1), padding=(1, 1), bias=False)\n",
       "      )\n",
       "      (denselayer17): _DenseLayer(\n",
       "        (norm.1): BatchNorm2d(768, eps=1e-05, momentum=0.1, affine=True)\n",
       "        (relu.1): ReLU(inplace)\n",
       "        (conv.1): Conv2d(768, 128, kernel_size=(1, 1), stride=(1, 1), bias=False)\n",
       "        (norm.2): BatchNorm2d(128, eps=1e-05, momentum=0.1, affine=True)\n",
       "        (relu.2): ReLU(inplace)\n",
       "        (conv.2): Conv2d(128, 32, kernel_size=(3, 3), stride=(1, 1), padding=(1, 1), bias=False)\n",
       "      )\n",
       "      (denselayer18): _DenseLayer(\n",
       "        (norm.1): BatchNorm2d(800, eps=1e-05, momentum=0.1, affine=True)\n",
       "        (relu.1): ReLU(inplace)\n",
       "        (conv.1): Conv2d(800, 128, kernel_size=(1, 1), stride=(1, 1), bias=False)\n",
       "        (norm.2): BatchNorm2d(128, eps=1e-05, momentum=0.1, affine=True)\n",
       "        (relu.2): ReLU(inplace)\n",
       "        (conv.2): Conv2d(128, 32, kernel_size=(3, 3), stride=(1, 1), padding=(1, 1), bias=False)\n",
       "      )\n",
       "      (denselayer19): _DenseLayer(\n",
       "        (norm.1): BatchNorm2d(832, eps=1e-05, momentum=0.1, affine=True)\n",
       "        (relu.1): ReLU(inplace)\n",
       "        (conv.1): Conv2d(832, 128, kernel_size=(1, 1), stride=(1, 1), bias=False)\n",
       "        (norm.2): BatchNorm2d(128, eps=1e-05, momentum=0.1, affine=True)\n",
       "        (relu.2): ReLU(inplace)\n",
       "        (conv.2): Conv2d(128, 32, kernel_size=(3, 3), stride=(1, 1), padding=(1, 1), bias=False)\n",
       "      )\n",
       "      (denselayer20): _DenseLayer(\n",
       "        (norm.1): BatchNorm2d(864, eps=1e-05, momentum=0.1, affine=True)\n",
       "        (relu.1): ReLU(inplace)\n",
       "        (conv.1): Conv2d(864, 128, kernel_size=(1, 1), stride=(1, 1), bias=False)\n",
       "        (norm.2): BatchNorm2d(128, eps=1e-05, momentum=0.1, affine=True)\n",
       "        (relu.2): ReLU(inplace)\n",
       "        (conv.2): Conv2d(128, 32, kernel_size=(3, 3), stride=(1, 1), padding=(1, 1), bias=False)\n",
       "      )\n",
       "      (denselayer21): _DenseLayer(\n",
       "        (norm.1): BatchNorm2d(896, eps=1e-05, momentum=0.1, affine=True)\n",
       "        (relu.1): ReLU(inplace)\n",
       "        (conv.1): Conv2d(896, 128, kernel_size=(1, 1), stride=(1, 1), bias=False)\n",
       "        (norm.2): BatchNorm2d(128, eps=1e-05, momentum=0.1, affine=True)\n",
       "        (relu.2): ReLU(inplace)\n",
       "        (conv.2): Conv2d(128, 32, kernel_size=(3, 3), stride=(1, 1), padding=(1, 1), bias=False)\n",
       "      )\n",
       "      (denselayer22): _DenseLayer(\n",
       "        (norm.1): BatchNorm2d(928, eps=1e-05, momentum=0.1, affine=True)\n",
       "        (relu.1): ReLU(inplace)\n",
       "        (conv.1): Conv2d(928, 128, kernel_size=(1, 1), stride=(1, 1), bias=False)\n",
       "        (norm.2): BatchNorm2d(128, eps=1e-05, momentum=0.1, affine=True)\n",
       "        (relu.2): ReLU(inplace)\n",
       "        (conv.2): Conv2d(128, 32, kernel_size=(3, 3), stride=(1, 1), padding=(1, 1), bias=False)\n",
       "      )\n",
       "      (denselayer23): _DenseLayer(\n",
       "        (norm.1): BatchNorm2d(960, eps=1e-05, momentum=0.1, affine=True)\n",
       "        (relu.1): ReLU(inplace)\n",
       "        (conv.1): Conv2d(960, 128, kernel_size=(1, 1), stride=(1, 1), bias=False)\n",
       "        (norm.2): BatchNorm2d(128, eps=1e-05, momentum=0.1, affine=True)\n",
       "        (relu.2): ReLU(inplace)\n",
       "        (conv.2): Conv2d(128, 32, kernel_size=(3, 3), stride=(1, 1), padding=(1, 1), bias=False)\n",
       "      )\n",
       "      (denselayer24): _DenseLayer(\n",
       "        (norm.1): BatchNorm2d(992, eps=1e-05, momentum=0.1, affine=True)\n",
       "        (relu.1): ReLU(inplace)\n",
       "        (conv.1): Conv2d(992, 128, kernel_size=(1, 1), stride=(1, 1), bias=False)\n",
       "        (norm.2): BatchNorm2d(128, eps=1e-05, momentum=0.1, affine=True)\n",
       "        (relu.2): ReLU(inplace)\n",
       "        (conv.2): Conv2d(128, 32, kernel_size=(3, 3), stride=(1, 1), padding=(1, 1), bias=False)\n",
       "      )\n",
       "    )\n",
       "    (transition3): _Transition(\n",
       "      (norm): BatchNorm2d(1024, eps=1e-05, momentum=0.1, affine=True)\n",
       "      (relu): ReLU(inplace)\n",
       "      (conv): Conv2d(1024, 512, kernel_size=(1, 1), stride=(1, 1), bias=False)\n",
       "      (pool): AvgPool2d(kernel_size=2, stride=2, padding=0, ceil_mode=False, count_include_pad=True)\n",
       "    )\n",
       "    (denseblock4): _DenseBlock(\n",
       "      (denselayer1): _DenseLayer(\n",
       "        (norm.1): BatchNorm2d(512, eps=1e-05, momentum=0.1, affine=True)\n",
       "        (relu.1): ReLU(inplace)\n",
       "        (conv.1): Conv2d(512, 128, kernel_size=(1, 1), stride=(1, 1), bias=False)\n",
       "        (norm.2): BatchNorm2d(128, eps=1e-05, momentum=0.1, affine=True)\n",
       "        (relu.2): ReLU(inplace)\n",
       "        (conv.2): Conv2d(128, 32, kernel_size=(3, 3), stride=(1, 1), padding=(1, 1), bias=False)\n",
       "      )\n",
       "      (denselayer2): _DenseLayer(\n",
       "        (norm.1): BatchNorm2d(544, eps=1e-05, momentum=0.1, affine=True)\n",
       "        (relu.1): ReLU(inplace)\n",
       "        (conv.1): Conv2d(544, 128, kernel_size=(1, 1), stride=(1, 1), bias=False)\n",
       "        (norm.2): BatchNorm2d(128, eps=1e-05, momentum=0.1, affine=True)\n",
       "        (relu.2): ReLU(inplace)\n",
       "        (conv.2): Conv2d(128, 32, kernel_size=(3, 3), stride=(1, 1), padding=(1, 1), bias=False)\n",
       "      )\n",
       "      (denselayer3): _DenseLayer(\n",
       "        (norm.1): BatchNorm2d(576, eps=1e-05, momentum=0.1, affine=True)\n",
       "        (relu.1): ReLU(inplace)\n",
       "        (conv.1): Conv2d(576, 128, kernel_size=(1, 1), stride=(1, 1), bias=False)\n",
       "        (norm.2): BatchNorm2d(128, eps=1e-05, momentum=0.1, affine=True)\n",
       "        (relu.2): ReLU(inplace)\n",
       "        (conv.2): Conv2d(128, 32, kernel_size=(3, 3), stride=(1, 1), padding=(1, 1), bias=False)\n",
       "      )\n",
       "      (denselayer4): _DenseLayer(\n",
       "        (norm.1): BatchNorm2d(608, eps=1e-05, momentum=0.1, affine=True)\n",
       "        (relu.1): ReLU(inplace)\n",
       "        (conv.1): Conv2d(608, 128, kernel_size=(1, 1), stride=(1, 1), bias=False)\n",
       "        (norm.2): BatchNorm2d(128, eps=1e-05, momentum=0.1, affine=True)\n",
       "        (relu.2): ReLU(inplace)\n",
       "        (conv.2): Conv2d(128, 32, kernel_size=(3, 3), stride=(1, 1), padding=(1, 1), bias=False)\n",
       "      )\n",
       "      (denselayer5): _DenseLayer(\n",
       "        (norm.1): BatchNorm2d(640, eps=1e-05, momentum=0.1, affine=True)\n",
       "        (relu.1): ReLU(inplace)\n",
       "        (conv.1): Conv2d(640, 128, kernel_size=(1, 1), stride=(1, 1), bias=False)\n",
       "        (norm.2): BatchNorm2d(128, eps=1e-05, momentum=0.1, affine=True)\n",
       "        (relu.2): ReLU(inplace)\n",
       "        (conv.2): Conv2d(128, 32, kernel_size=(3, 3), stride=(1, 1), padding=(1, 1), bias=False)\n",
       "      )\n",
       "      (denselayer6): _DenseLayer(\n",
       "        (norm.1): BatchNorm2d(672, eps=1e-05, momentum=0.1, affine=True)\n",
       "        (relu.1): ReLU(inplace)\n",
       "        (conv.1): Conv2d(672, 128, kernel_size=(1, 1), stride=(1, 1), bias=False)\n",
       "        (norm.2): BatchNorm2d(128, eps=1e-05, momentum=0.1, affine=True)\n",
       "        (relu.2): ReLU(inplace)\n",
       "        (conv.2): Conv2d(128, 32, kernel_size=(3, 3), stride=(1, 1), padding=(1, 1), bias=False)\n",
       "      )\n",
       "      (denselayer7): _DenseLayer(\n",
       "        (norm.1): BatchNorm2d(704, eps=1e-05, momentum=0.1, affine=True)\n",
       "        (relu.1): ReLU(inplace)\n",
       "        (conv.1): Conv2d(704, 128, kernel_size=(1, 1), stride=(1, 1), bias=False)\n",
       "        (norm.2): BatchNorm2d(128, eps=1e-05, momentum=0.1, affine=True)\n",
       "        (relu.2): ReLU(inplace)\n",
       "        (conv.2): Conv2d(128, 32, kernel_size=(3, 3), stride=(1, 1), padding=(1, 1), bias=False)\n",
       "      )\n",
       "      (denselayer8): _DenseLayer(\n",
       "        (norm.1): BatchNorm2d(736, eps=1e-05, momentum=0.1, affine=True)\n",
       "        (relu.1): ReLU(inplace)\n",
       "        (conv.1): Conv2d(736, 128, kernel_size=(1, 1), stride=(1, 1), bias=False)\n",
       "        (norm.2): BatchNorm2d(128, eps=1e-05, momentum=0.1, affine=True)\n",
       "        (relu.2): ReLU(inplace)\n",
       "        (conv.2): Conv2d(128, 32, kernel_size=(3, 3), stride=(1, 1), padding=(1, 1), bias=False)\n",
       "      )\n",
       "      (denselayer9): _DenseLayer(\n",
       "        (norm.1): BatchNorm2d(768, eps=1e-05, momentum=0.1, affine=True)\n",
       "        (relu.1): ReLU(inplace)\n",
       "        (conv.1): Conv2d(768, 128, kernel_size=(1, 1), stride=(1, 1), bias=False)\n",
       "        (norm.2): BatchNorm2d(128, eps=1e-05, momentum=0.1, affine=True)\n",
       "        (relu.2): ReLU(inplace)\n",
       "        (conv.2): Conv2d(128, 32, kernel_size=(3, 3), stride=(1, 1), padding=(1, 1), bias=False)\n",
       "      )\n",
       "      (denselayer10): _DenseLayer(\n",
       "        (norm.1): BatchNorm2d(800, eps=1e-05, momentum=0.1, affine=True)\n",
       "        (relu.1): ReLU(inplace)\n",
       "        (conv.1): Conv2d(800, 128, kernel_size=(1, 1), stride=(1, 1), bias=False)\n",
       "        (norm.2): BatchNorm2d(128, eps=1e-05, momentum=0.1, affine=True)\n",
       "        (relu.2): ReLU(inplace)\n",
       "        (conv.2): Conv2d(128, 32, kernel_size=(3, 3), stride=(1, 1), padding=(1, 1), bias=False)\n",
       "      )\n",
       "      (denselayer11): _DenseLayer(\n",
       "        (norm.1): BatchNorm2d(832, eps=1e-05, momentum=0.1, affine=True)\n",
       "        (relu.1): ReLU(inplace)\n",
       "        (conv.1): Conv2d(832, 128, kernel_size=(1, 1), stride=(1, 1), bias=False)\n",
       "        (norm.2): BatchNorm2d(128, eps=1e-05, momentum=0.1, affine=True)\n",
       "        (relu.2): ReLU(inplace)\n",
       "        (conv.2): Conv2d(128, 32, kernel_size=(3, 3), stride=(1, 1), padding=(1, 1), bias=False)\n",
       "      )\n",
       "      (denselayer12): _DenseLayer(\n",
       "        (norm.1): BatchNorm2d(864, eps=1e-05, momentum=0.1, affine=True)\n",
       "        (relu.1): ReLU(inplace)\n",
       "        (conv.1): Conv2d(864, 128, kernel_size=(1, 1), stride=(1, 1), bias=False)\n",
       "        (norm.2): BatchNorm2d(128, eps=1e-05, momentum=0.1, affine=True)\n",
       "        (relu.2): ReLU(inplace)\n",
       "        (conv.2): Conv2d(128, 32, kernel_size=(3, 3), stride=(1, 1), padding=(1, 1), bias=False)\n",
       "      )\n",
       "      (denselayer13): _DenseLayer(\n",
       "        (norm.1): BatchNorm2d(896, eps=1e-05, momentum=0.1, affine=True)\n",
       "        (relu.1): ReLU(inplace)\n",
       "        (conv.1): Conv2d(896, 128, kernel_size=(1, 1), stride=(1, 1), bias=False)\n",
       "        (norm.2): BatchNorm2d(128, eps=1e-05, momentum=0.1, affine=True)\n",
       "        (relu.2): ReLU(inplace)\n",
       "        (conv.2): Conv2d(128, 32, kernel_size=(3, 3), stride=(1, 1), padding=(1, 1), bias=False)\n",
       "      )\n",
       "      (denselayer14): _DenseLayer(\n",
       "        (norm.1): BatchNorm2d(928, eps=1e-05, momentum=0.1, affine=True)\n",
       "        (relu.1): ReLU(inplace)\n",
       "        (conv.1): Conv2d(928, 128, kernel_size=(1, 1), stride=(1, 1), bias=False)\n",
       "        (norm.2): BatchNorm2d(128, eps=1e-05, momentum=0.1, affine=True)\n",
       "        (relu.2): ReLU(inplace)\n",
       "        (conv.2): Conv2d(128, 32, kernel_size=(3, 3), stride=(1, 1), padding=(1, 1), bias=False)\n",
       "      )\n",
       "      (denselayer15): _DenseLayer(\n",
       "        (norm.1): BatchNorm2d(960, eps=1e-05, momentum=0.1, affine=True)\n",
       "        (relu.1): ReLU(inplace)\n",
       "        (conv.1): Conv2d(960, 128, kernel_size=(1, 1), stride=(1, 1), bias=False)\n",
       "        (norm.2): BatchNorm2d(128, eps=1e-05, momentum=0.1, affine=True)\n",
       "        (relu.2): ReLU(inplace)\n",
       "        (conv.2): Conv2d(128, 32, kernel_size=(3, 3), stride=(1, 1), padding=(1, 1), bias=False)\n",
       "      )\n",
       "      (denselayer16): _DenseLayer(\n",
       "        (norm.1): BatchNorm2d(992, eps=1e-05, momentum=0.1, affine=True)\n",
       "        (relu.1): ReLU(inplace)\n",
       "        (conv.1): Conv2d(992, 128, kernel_size=(1, 1), stride=(1, 1), bias=False)\n",
       "        (norm.2): BatchNorm2d(128, eps=1e-05, momentum=0.1, affine=True)\n",
       "        (relu.2): ReLU(inplace)\n",
       "        (conv.2): Conv2d(128, 32, kernel_size=(3, 3), stride=(1, 1), padding=(1, 1), bias=False)\n",
       "      )\n",
       "    )\n",
       "    (norm5): BatchNorm2d(1024, eps=1e-05, momentum=0.1, affine=True)\n",
       "  )\n",
       "  (classifier): Linear(in_features=1024, out_features=1000, bias=True)\n",
       ")"
      ]
     },
     "execution_count": 4,
     "metadata": {},
     "output_type": "execute_result"
    }
   ],
   "source": [
    "net.eval()"
   ]
  },
  {
   "cell_type": "code",
   "execution_count": 5,
   "metadata": {
    "collapsed": true
   },
   "outputs": [],
   "source": [
    "# hook the feature extractor\n",
    "features_blobs = []\n",
    "def hook_feature(module, input, output):\n",
    "    features_blobs.append(output.data.cpu().numpy())"
   ]
  },
  {
   "cell_type": "code",
   "execution_count": 6,
   "metadata": {},
   "outputs": [
    {
     "data": {
      "text/plain": [
       "<torch.utils.hooks.RemovableHandle at 0x1d65b1e20b8>"
      ]
     },
     "execution_count": 6,
     "metadata": {},
     "output_type": "execute_result"
    }
   ],
   "source": [
    "net._modules.get(finalconv_name).register_forward_hook(hook_feature)"
   ]
  },
  {
   "cell_type": "code",
   "execution_count": 7,
   "metadata": {},
   "outputs": [
    {
     "data": {
      "text/plain": [
       "[]"
      ]
     },
     "execution_count": 7,
     "metadata": {},
     "output_type": "execute_result"
    }
   ],
   "source": [
    "features_blobs"
   ]
  },
  {
   "cell_type": "code",
   "execution_count": 8,
   "metadata": {
    "collapsed": true
   },
   "outputs": [],
   "source": [
    "# get the softmax weight\n",
    "params = list(net.parameters())\n",
    "# params\n",
    "weight_softmax = np.squeeze(params[-2].data.numpy())"
   ]
  },
  {
   "cell_type": "code",
   "execution_count": 9,
   "metadata": {},
   "outputs": [
    {
     "data": {
      "text/plain": [
       "array([[  2.24406558e-05,  -1.28876331e-04,   6.71682064e-05, ...,\n",
       "          8.67323279e-02,  -1.28806368e-01,   1.47461936e-01],\n",
       "       [ -5.15609236e-06,   6.15610261e-05,   2.70109187e-04, ...,\n",
       "          1.84427738e-01,  -4.66619991e-02,  -3.02633271e-02],\n",
       "       [  5.15487773e-05,   9.44278690e-06,   8.84436449e-05, ...,\n",
       "         -3.06332856e-02,   5.49471341e-02,  -1.21758938e-01],\n",
       "       ..., \n",
       "       [ -2.12445570e-06,   4.87440673e-04,   4.56426933e-05, ...,\n",
       "          8.92912522e-02,  -6.53944016e-02,  -2.28688512e-02],\n",
       "       [  4.77776848e-06,   6.72578026e-05,   4.29853331e-04, ...,\n",
       "         -7.15030683e-03,  -2.63923928e-02,  -2.11334117e-02],\n",
       "       [  1.89808507e-05,  -1.79753071e-04,   1.64687255e-04, ...,\n",
       "          1.60952180e-03,   9.63733532e-03,  -4.83125774e-03]], dtype=float32)"
      ]
     },
     "execution_count": 9,
     "metadata": {},
     "output_type": "execute_result"
    }
   ],
   "source": [
    "params[-2].data.numpy()"
   ]
  },
  {
   "cell_type": "code",
   "execution_count": 10,
   "metadata": {},
   "outputs": [
    {
     "data": {
      "text/plain": [
       "(1000, 1024)"
      ]
     },
     "execution_count": 10,
     "metadata": {},
     "output_type": "execute_result"
    }
   ],
   "source": [
    "weight_softmax.shape"
   ]
  },
  {
   "cell_type": "code",
   "execution_count": 11,
   "metadata": {
    "collapsed": true
   },
   "outputs": [],
   "source": [
    "def returnCAM(feature_conv, weight_softmax, class_idx):\n",
    "    # generate the class activation maps upsample to 256x256\n",
    "    size_upsample = (256, 256)\n",
    "    bz, nc, h, w = feature_conv.shape\n",
    "    output_cam = []\n",
    "    for idx in class_idx:\n",
    "        cam = weight_softmax[class_idx].dot(feature_conv.reshape((nc, h*w)))\n",
    "        cam = cam.reshape(h, w)\n",
    "        cam = cam - np.min(cam)\n",
    "        cam_img = cam / np.max(cam)\n",
    "        cam_img = np.uint8(255 * cam_img)\n",
    "        output_cam.append(cv2.resize(cam_img, size_upsample))\n",
    "    return output_cam"
   ]
  },
  {
   "cell_type": "code",
   "execution_count": 12,
   "metadata": {},
   "outputs": [],
   "source": [
    "normalize = transforms.Normalize(\n",
    "   mean=[0.485, 0.456, 0.406],\n",
    "   std=[0.229, 0.224, 0.225]\n",
    ")\n",
    "preprocess = transforms.Compose([\n",
    "    transforms.Resize((224,224)),\n",
    "    transforms.Grayscale(num_output_channels=3),\n",
    "    transforms.ToTensor(),\n",
    "   normalize\n",
    "])"
   ]
  },
  {
   "cell_type": "code",
   "execution_count": 13,
   "metadata": {
    "collapsed": true
   },
   "outputs": [],
   "source": [
    "import glob"
   ]
  },
  {
   "cell_type": "code",
   "execution_count": 14,
   "metadata": {},
   "outputs": [
    {
     "data": {
      "text/plain": [
       "'../../data/images\\\\00013774_026.png'"
      ]
     },
     "execution_count": 14,
     "metadata": {},
     "output_type": "execute_result"
    }
   ],
   "source": [
    "glob.glob('../../data/images/*.png')[0]"
   ]
  },
  {
   "cell_type": "code",
   "execution_count": 16,
   "metadata": {},
   "outputs": [],
   "source": [
    "# response = requests.get(IMG_URL)\n",
    "img_pil = Image.open(glob.glob('../../data/images/*.png')[29])\n",
    "# img_pil = Image.open(io.BytesIO(response.content))\n",
    "img_pil.save('test.jpg')"
   ]
  },
  {
   "cell_type": "code",
   "execution_count": 17,
   "metadata": {},
   "outputs": [
    {
     "data": {
      "image/png": "[encoded data removed]",
      "text/plain": [
       "<PIL.PngImagePlugin.PngImageFile image mode=L size=224x224 at 0x1D65B1E29B0>"
      ]
     },
     "execution_count": 17,
     "metadata": {},
     "output_type": "execute_result"
    }
   ],
   "source": [
    "img_pil.thumbnail((224,224),Image.ANTIALIAS)\n",
    "img_pil"
   ]
  },
  {
   "cell_type": "code",
   "execution_count": 18,
   "metadata": {},
   "outputs": [
    {
     "data": {
      "text/plain": [
       "(1024, 1024, 3)"
      ]
     },
     "execution_count": 18,
     "metadata": {},
     "output_type": "execute_result"
    }
   ],
   "source": [
    "cv2.imread('test.jpg').shape"
   ]
  },
  {
   "cell_type": "code",
   "execution_count": 19,
   "metadata": {},
   "outputs": [],
   "source": [
    "# assert not features_blobs"
   ]
  },
  {
   "cell_type": "code",
   "execution_count": 20,
   "metadata": {},
   "outputs": [],
   "source": [
    "img_tensor = preprocess(img_pil)"
   ]
  },
  {
   "cell_type": "code",
   "execution_count": 21,
   "metadata": {},
   "outputs": [
    {
     "data": {
      "text/plain": [
       "torch.Size([3, 224, 224])"
      ]
     },
     "execution_count": 21,
     "metadata": {},
     "output_type": "execute_result"
    }
   ],
   "source": [
    "img_tensor.shape"
   ]
  },
  {
   "cell_type": "code",
   "execution_count": 22,
   "metadata": {},
   "outputs": [],
   "source": [
    "# img_tensor = preprocess(img_pil)\n",
    "img_variable = Variable(img_tensor.unsqueeze(0))\n",
    "logit = net(img_variable)"
   ]
  },
  {
   "cell_type": "code",
   "execution_count": 25,
   "metadata": {},
   "outputs": [],
   "source": [
    "# download the imagenet category list\n",
    "classes = {int(key):value for (key, value)\n",
    "          in requests.get(LABELS_URL).json().items()}"
   ]
  },
  {
   "cell_type": "code",
   "execution_count": 26,
   "metadata": {},
   "outputs": [
    {
     "data": {
      "text/plain": [
       "'tench, Tinca tinca'"
      ]
     },
     "execution_count": 26,
     "metadata": {},
     "output_type": "execute_result"
    }
   ],
   "source": [
    "classes[0]"
   ]
  },
  {
   "cell_type": "code",
   "execution_count": 27,
   "metadata": {
    "collapsed": true
   },
   "outputs": [],
   "source": [
    "assert features_blobs"
   ]
  },
  {
   "cell_type": "code",
   "execution_count": 28,
   "metadata": {},
   "outputs": [
    {
     "name": "stderr",
     "output_type": "stream",
     "text": [
      "C:\\Users\\maddy\\Miniconda3\\lib\\site-packages\\ipykernel_launcher.py:1: UserWarning: Implicit dimension choice for softmax has been deprecated. Change the call to include dim=X as an argument.\n",
      "  \"\"\"Entry point for launching an IPython kernel.\n"
     ]
    }
   ],
   "source": [
    "h_x = F.softmax(logit).data.squeeze()\n",
    "probs, idx = h_x.sort(0, True)"
   ]
  },
  {
   "cell_type": "code",
   "execution_count": 29,
   "metadata": {},
   "outputs": [
    {
     "data": {
      "text/plain": [
       "(\n",
       "  1.3448e-01\n",
       "  1.0231e-01\n",
       "  6.4498e-02\n",
       "      ⋮     \n",
       "  4.1630e-08\n",
       "  2.3021e-08\n",
       "  2.1994e-08\n",
       " [torch.FloatTensor of size 1000], \n",
       "  938\n",
       "  982\n",
       "  562\n",
       "  ⋮  \n",
       "  319\n",
       "  320\n",
       "   24\n",
       " [torch.LongTensor of size 1000])"
      ]
     },
     "execution_count": 29,
     "metadata": {},
     "output_type": "execute_result"
    }
   ],
   "source": [
    "h_x.sort(0, True)"
   ]
  },
  {
   "cell_type": "code",
   "execution_count": 30,
   "metadata": {},
   "outputs": [
    {
     "name": "stdout",
     "output_type": "stream",
     "text": [
      "0.134 -> cauliflower\n",
      "0.102 -> groom, bridegroom\n",
      "0.064 -> fountain\n",
      "0.062 -> beaker\n",
      "0.046 -> plastic bag\n"
     ]
    }
   ],
   "source": [
    "for i in range(0, 5):\n",
    "    print('{:.3f} -> {}'.format(probs[i], classes[idx[i]]))"
   ]
  },
  {
   "cell_type": "code",
   "execution_count": 31,
   "metadata": {},
   "outputs": [
    {
     "data": {
      "text/plain": [
       "(1, 1024, 7, 7)"
      ]
     },
     "execution_count": 31,
     "metadata": {},
     "output_type": "execute_result"
    }
   ],
   "source": [
    "features_blobs[0].shape"
   ]
  },
  {
   "cell_type": "code",
   "execution_count": 32,
   "metadata": {},
   "outputs": [
    {
     "data": {
      "text/plain": [
       "562"
      ]
     },
     "execution_count": 32,
     "metadata": {},
     "output_type": "execute_result"
    }
   ],
   "source": [
    "idx[2]"
   ]
  },
  {
   "cell_type": "code",
   "execution_count": 33,
   "metadata": {
    "collapsed": true
   },
   "outputs": [],
   "source": [
    "# generate class activation mapping for the top1 prediction\n",
    "CAMs = returnCAM(features_blobs[0], weight_softmax, [idx[3]])"
   ]
  },
  {
   "cell_type": "code",
   "execution_count": 34,
   "metadata": {},
   "outputs": [
    {
     "name": "stdout",
     "output_type": "stream",
     "text": [
      "output CAM.jpg for the top1 prediction: cauliflower\n"
     ]
    },
    {
     "data": {
      "text/plain": [
       "True"
      ]
     },
     "execution_count": 34,
     "metadata": {},
     "output_type": "execute_result"
    }
   ],
   "source": [
    "print('output CAM.jpg for the top1 prediction: %s'%classes[idx[0]])\n",
    "img = cv2.imread('test.jpg')\n",
    "height, width, _ = img.shape\n",
    "heatmap = cv2.applyColorMap(cv2.resize(CAMs[0],(width, height)), cv2.COLORMAP_JET)\n",
    "result = heatmap * 0.3 + img * 0.5\n",
    "cv2.imwrite('CAM.jpg', result)"
   ]
  },
  {
   "cell_type": "code",
   "execution_count": 35,
   "metadata": {},
   "outputs": [
    {
     "data": {
      "image/png": "[encoded data removed]",
      "text/plain": [
       "<PIL.JpegImagePlugin.JpegImageFile image mode=RGB size=224x224 at 0x1D65C3071D0>"
      ]
     },
     "execution_count": 35,
     "metadata": {},
     "output_type": "execute_result"
    }
   ],
   "source": [
    "fin_img = Image.open('CAM.jpg')\n",
    "fin_img.thumbnail((224,224),Image.ANTIALIAS)\n",
    "fin_img"
   ]
  },
  {
   "cell_type": "code",
   "execution_count": null,
   "metadata": {
    "collapsed": true
   },
   "outputs": [],
   "source": []
  }
 ],
 "metadata": {
  "kernelspec": {
   "display_name": "Python 3",
   "language": "python",
   "name": "python3"
  },
  "language_info": {
   "codemirror_mode": {
    "name": "ipython",
    "version": 3
   },
   "file_extension": ".py",
   "mimetype": "text/x-python",
   "name": "python",
   "nbconvert_exporter": "python",
   "pygments_lexer": "ipython3",
   "version": "3.6.1"
  }
 },
 "nbformat": 4,
 "nbformat_minor": 2
}
